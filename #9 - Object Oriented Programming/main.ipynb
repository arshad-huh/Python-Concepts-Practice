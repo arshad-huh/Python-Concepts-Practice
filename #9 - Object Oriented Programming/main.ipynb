{
 "cells": [
  {
   "cell_type": "markdown",
   "metadata": {},
   "source": [
    "# Object Oriented Programming"
   ]
  },
  {
   "cell_type": "markdown",
   "metadata": {},
   "source": [
    "### OOPs Concepts\n",
    "- Object\n",
    "- Class\n",
    "- Polymorphism\n",
    "- Encapsulation\n",
    "- Inheritance\n",
    "- Abstraction\n",
    "\n",
    "\n"
   ]
  },
  {
   "cell_type": "markdown",
   "metadata": {},
   "source": [
    "Object-oriented programming (OOP) is a programming pattern based on the concept of objects. Objects consist of data and methods. The object's data are its properties, which define what it is. And the object's methods, are its functions, that define what the object can do.\\\n",
    "\\\n",
    "It is a programming paradigm or methodology, to design a program using classes and objects OOPS treats every entity as an object."
   ]
  },
  {
   "cell_type": "markdown",
   "metadata": {},
   "source": [
    "### Why OOPs\n",
    "- They reduce the redundancy of the code by writing clear and reusable codes (using inheritance).\n",
    "- They are easier to visualize because they completely relate to real-world scenarios. For example, the concept of objects, inheritance, and abstractions, relate very closely to real-world scenarios.\n",
    "- Every object in OOPS represent a different part of the code and has its own logic and data to communicate with each other. So, there are no complications in the code."
   ]
  },
  {
   "cell_type": "markdown",
   "metadata": {},
   "source": [
    "## CLASS\n",
    "- In python eveything is Object.\n",
    "- Class is a blueprint.\n",
    "- object = variable\n",
    "- Datatype = Class\n",
    "- A class is used to create user-defined data structures in Python. \n"
   ]
  },
  {
   "cell_type": "markdown",
   "metadata": {},
   "source": [
    "Classes make the code more manageable by avoiding complex codebases. It does so, by creating a blueprint or a design of how anything should be defined. It defines what properties or functions, any object which is derived from the class should have."
   ]
  },
  {
   "cell_type": "markdown",
   "metadata": {},
   "source": [
    "## OBJECT\n",
    "Objects are anything that has properties and some behaviors. The properties of objects are often referred to as variables of the object, and behaviors are referred to as the functions of the objects. Objects can be real-life or logical."
   ]
  },
  {
   "cell_type": "markdown",
   "metadata": {},
   "source": [
    "Eg: a Pen is a real-life object. The property of a pen includes its color, and type (gel pen or ball pen). And, the behavior of the pen may include that, it can write, draw, etc."
   ]
  },
  {
   "cell_type": "markdown",
   "metadata": {},
   "source": [
    "An instance of a class is called the object. It is the implementation of the class and exists in real.\n",
    "\n",
    "An object is a collection of data (variables) and methods (functions) that access the data. It is the real implementation of a class."
   ]
  },
  {
   "cell_type": "markdown",
   "metadata": {},
   "source": [
    "- class = blueprint(suppose an architectural drawing).\n",
    "- The Object is an actual thing that is built based on the ‘blueprint’ (suppose a house).\n",
    "- An instance is a virtual copy (but not a real copy) of the object."
   ]
  },
  {
   "cell_type": "markdown",
   "metadata": {},
   "source": [
    "##### Functions v/s Method\n",
    "Function --> len()\\\n",
    "method --> .append()  #It is the function of a class"
   ]
  },
  {
   "cell_type": "markdown",
   "metadata": {},
   "source": [
    "#### Example: Class Human\n"
   ]
  },
  {
   "cell_type": "code",
   "execution_count": null,
   "metadata": {},
   "outputs": [],
   "source": [
    "class Human:\n",
    "    #class attribute\n",
    "    species = \"Homo Sapiens\"\n",
    "    # Dunder Method/ Magic Functions\n",
    "    def __init__(self, name, age, gender):\n",
    "        # Self parameter   # Instance Attribute\n",
    "        self.name = name                  \n",
    "        self.age = age \n",
    "        self.gender = gender"
   ]
  },
  {
   "cell_type": "markdown",
   "metadata": {},
   "source": [
    "The self parameter is a reference to the current instance of the class. It means, the self parameter points to the address of the current object of a class, allowing us to access the data of its(the object's) variables."
   ]
  },
  {
   "cell_type": "markdown",
   "metadata": {},
   "source": [
    "There are 2 types of attributes in Python:\n",
    "\n",
    "1. Class Attribute: These are the variables that are the same for all instances of the class. They do not have new values for each new instance created.\n",
    "2. Instance Attribute:\n",
    "Instance attributes are the variables that are defined inside of any function in class. Instance attributes have different values for every instance of the class."
   ]
  },
  {
   "cell_type": "code",
   "execution_count": null,
   "metadata": {},
   "outputs": [],
   "source": [
    "class Human:\n",
    "    species = \"Homo Sapiens\"\n",
    "    def __init__(self, name, age, gender):\n",
    "        self.name = name\n",
    "        self.age = age\n",
    "        self.gender = gender\n",
    "        \n",
    "    #Instance Method\n",
    "    def speak(self):\n",
    "        return f\"Hello everyone! I am {self.name}\"\n",
    "    \n",
    "    #Instance Method\n",
    "    def eat(self, favouriteDish):\n",
    "        return f\"I love to eat {favouriteDish}!!!\"\n",
    "\n",
    "x = Human(\"Arshad\",18,\"male\")\n",
    "print(x.speak())\n",
    "print(x.eat(\"biryani\"))"
   ]
  },
  {
   "cell_type": "markdown",
   "metadata": {},
   "source": [
    "#### Instance Methods\n",
    "An instance method is a function defined within a class that can be called only from instances of that class. Like init(), an instance method's first parameter is always self."
   ]
  },
  {
   "cell_type": "markdown",
   "metadata": {},
   "source": [
    "## INHERITANCE"
   ]
  },
  {
   "cell_type": "markdown",
   "metadata": {},
   "source": [
    "- Inheritance too is very similar to the real-life scenario. Here, the \"child classes\" inherit features from their \"parent classes.\" And the features they inherit here are termed as \"properties\" and \"methods\"!"
   ]
  },
  {
   "cell_type": "code",
   "execution_count": null,
   "metadata": {},
   "outputs": [],
   "source": [
    "class Human:     #parent class\n",
    "    def __init__(self, name, age, gender):\n",
    "        self.name = name\n",
    "        self.age = age\n",
    "        self.gender = gender\n",
    "\n",
    "    def description(self):\n",
    "        print(f\"Hey! My name is {self.name}, I'm a {self.gender} and I'm {self.age} years old\")\n",
    "\n",
    "class Boy(Human):    #child class\n",
    "    def schoolName(self, schoolname):\n",
    "        print(f\"I study in {schoolname}\")"
   ]
  },
  {
   "cell_type": "code",
   "execution_count": null,
   "metadata": {},
   "outputs": [],
   "source": [
    "class Human:\n",
    "    def __init__(self,name,age,gender):\n",
    "        self.name = name\n",
    "        self.age = age\n",
    "        self.gender = gender\n",
    "    def description(self):\n",
    "        print(f\"Hey! My name is {self.name}, I'm a {self.gender} and I'm {self.age} years old\")\n",
    "    \n",
    "    def dance(self):\n",
    "        print(\"I can dance\")\n",
    "        \n",
    "class Girl(Human):\n",
    "    def dance(self):\n",
    "        print(\"I can do classic dance\")\n",
    "    def activity(self):\n",
    "        super().dance()        # super() --> refers to the parent class"
   ]
  },
  {
   "cell_type": "markdown",
   "metadata": {},
   "source": [
    "## POLYMORPHISM"
   ]
  },
  {
   "cell_type": "markdown",
   "metadata": {},
   "source": [
    "Did you notice one thing? You could scroll through feeds, listen to music, attend/make phone calls, message -- everything just with a single device - your Mobile Phone! Whoa!"
   ]
  },
  {
   "cell_type": "markdown",
   "metadata": {},
   "source": [
    "So, Polymorphism is something similar to that. 'Poly' means multiple and 'morph' means forms. So, polymorphism altogether means something that has multiple forms. Or, 'some thing' that can have multiple behaviours depending upon the situation."
   ]
  },
  {
   "cell_type": "markdown",
   "metadata": {},
   "source": [
    "Polymorphism in OOPS refers to the functions having the same names but carrying different functionalities. Or, having the same function name, but different function signature(parameters passed to the function)."
   ]
  },
  {
   "cell_type": "code",
   "execution_count": null,
   "metadata": {},
   "outputs": [],
   "source": [
    "# Eg: len() --> In-built polymorphic funtion\n",
    "\n",
    "print(len('deepa'))\n",
    "print(len([1,2,5,9]))\n",
    "print(len({'1':'apple','2':'cherry','3':'banana'}))\n",
    "\n",
    "# Eg: + Addition Operator\n",
    "\n",
    "x = 4 + 5\n",
    "y = 'python' + ' programming'\n",
    "z = 2.5 + 3\n",
    "print(x)\n",
    "print(y)\n",
    "print(z)"
   ]
  },
  {
   "cell_type": "code",
   "execution_count": null,
   "metadata": {},
   "outputs": [],
   "source": [
    "# Polymorphism with Class Methods\n",
    "\n",
    "class Monkey:\n",
    "    def color(self):\n",
    "        print(\"The monkey is yellow coloured!\")\n",
    "\n",
    "    def eats(self):\n",
    "        print(\"The monkey eats bananas!\")\n",
    "\n",
    "\n",
    "class Rabbit:\n",
    "    def color(self):\n",
    "        print(\"The rabbit is white coloured!\")\n",
    "\n",
    "    def eats(self):\n",
    "        print(\"The rabbit eats carrots!\")\n",
    "\n",
    "\n",
    "mon = Monkey()\n",
    "rab = Rabbit()\n",
    "for animal in (mon, rab):\n",
    "    animal.color()\n",
    "    animal.eats()"
   ]
  },
  {
   "cell_type": "code",
   "execution_count": null,
   "metadata": {},
   "outputs": [],
   "source": [
    "# Polymorphism with Inheritance\n",
    "\n",
    "class Shape:\n",
    "    def no_of_sides(self):\n",
    "        pass\n",
    "\n",
    "    def two_dimensional(self):\n",
    "        print(\"I am a 2D object. I am from shape class\")\n",
    "\n",
    "\n",
    "class Square(Shape):\n",
    "    \n",
    "    def no_of_sides(self):\n",
    "        print(\"I have 4 sides. I am from Square class\")\n",
    "\n",
    "class Triangle(Shape):\n",
    "    \n",
    "    def no_of_sides(self):\n",
    "        print(\"I have 3 sides. I am from Triangle class\")\n",
    "        \n",
    "# Create an object of Square class\n",
    "sq = Square()\n",
    "# Override the no_of_sides of parent class\n",
    "sq.no_of_sides()\n",
    "\n",
    "# Create an object of triangle class\n",
    "tr = Triangle()\n",
    "# Override the no_of_sides of parent class\n",
    "tr.no_of_sides()\n"
   ]
  },
  {
   "cell_type": "markdown",
   "metadata": {},
   "source": [
    "## ENCAPSULATION"
   ]
  },
  {
   "cell_type": "markdown",
   "metadata": {},
   "source": [
    "Basically, a capsule encapsulates several combinations of medicine. Similarly, in programming, the variables and the methods remain enclosed inside a capsule called the 'class'!"
   ]
  },
  {
   "cell_type": "markdown",
   "metadata": {},
   "source": [
    "In other words, encapsulation is a programming technique that binds the class members (variables and methods) together and prevents them from being accessed by other classes. It is one of the concepts of OOPS in Python."
   ]
  },
  {
   "cell_type": "markdown",
   "metadata": {},
   "source": [
    "Encapsulation is a way to ensure security. It hides the data from the access of outsiders. An organization can protect its object/information against unwanted access by clients or any unauthorized person by encapsulating it."
   ]
  },
  {
   "cell_type": "markdown",
   "metadata": {},
   "source": [
    "#### Getter and Setter\n",
    " If anyone wants some data, they can only get it by calling the getter method. And, if they want to set some value to the data, they must use the setter method for that, otherwise, they won't be able to do the same. But internally, how these getter and setter methods are performed remains hidden from the outside world."
   ]
  },
  {
   "cell_type": "code",
   "execution_count": null,
   "metadata": {},
   "outputs": [],
   "source": [
    "# Eg:\n",
    "class Library:\n",
    "    def __init__(self, id, name):\n",
    "        self.bookId = id\n",
    "        self.bookName = name\n",
    "        \n",
    "    def setBookName(self, newBookName): #setters method to set the book name\n",
    "        self.bookName = newBookName\n",
    "        \n",
    "    def getBookName(self): #getters method to get the book name\n",
    "        print(f\"The name of book is {self.bookName}\")\n",
    "\n",
    "        \n",
    "book = Library(101,\"The Witchers\")\n",
    "book.getBookName()\n",
    "book.setBookName(\"The Witchers Returns\")\n",
    "book.getBookName()"
   ]
  },
  {
   "cell_type": "markdown",
   "metadata": {},
   "source": [
    "#### Access Modifiers\n",
    "Access modifiers limit access to the variables and methods of a class."
   ]
  },
  {
   "cell_type": "markdown",
   "metadata": {},
   "source": [
    "- Public Member: Accessible anywhere from outside the class.\n",
    "- Private Member: Accessible only within the class. (Double underscore __)\n",
    "- Protected Member: Accessible within the class and it's sub-classes. (Single underscore _)\n"
   ]
  },
  {
   "cell_type": "code",
   "execution_count": null,
   "metadata": {},
   "outputs": [],
   "source": [
    "class Employee:\n",
    "    def __init__(self, name, employeeId, salary):\n",
    "        self.name = name    #making employee name public\n",
    "        self._empID = employeeId  #making employee ID protected\n",
    "        self.__salary = salary  #making salary private\n",
    "\n",
    "    def getSalary(self):\n",
    "        print(f\"The salary of Employee is {self.__salary}\")\n",
    "\n",
    "employee1 = Employee(\"John Gates\", 110514, \"$1500\")\n",
    "\n",
    "print(f\"The Employee's name is {employee1.name}\")\n",
    "print(f\"The Employee's ID is {employee1._empID}\")\n",
    "print(f\"The Employee's salary is {employee1.salary}\") #will throw an error because salary is defined as private\n"
   ]
  },
  {
   "cell_type": "markdown",
   "metadata": {},
   "source": [
    "0:00 Importance of OOP\n",
    "10:30 Class\n",
    "19:49 Object\n",
    "21:45 Practical implementation of class and object\n",
    "29:20 Constructor\n",
    "56.00 self in python\n",
    "1:06:18 Create own data type (Fraction) & corresponding methods to add, sub, mul and divide fractions\n",
    "1:23:15 Encapsulation -- private data members, getter and setter,\n",
    "1:49:20 Reference Variable\n",
    "1:51:30 Pass by reference\n",
    "2:11:40 Collection of objects\n",
    "2:16:45 Static Variables and methods\n",
    "2:31:05 Class relationship - Aggregation\n",
    "2:43:27 Inheritance\n",
    "2:55:26 Class diagram\n",
    "3:01:00 Polymorphism\n",
    "3:10:20 User of super()\n",
    "3:22:10 Types of inheritance\n",
    "3:28:10 MRO - Method Resolution Order\n",
    "3:35:35 Method overloading and operator overloading\n",
    "3:44:25 Project\n",
    "\n",
    "dunder method \n",
    "instance variable\n"
   ]
  }
 ],
 "metadata": {
  "language_info": {
   "name": "python"
  }
 },
 "nbformat": 4,
 "nbformat_minor": 2
}
