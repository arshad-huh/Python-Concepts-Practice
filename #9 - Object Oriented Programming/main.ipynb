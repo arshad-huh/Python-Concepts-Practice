{
 "cells": [
  {
   "cell_type": "markdown",
   "metadata": {},
   "source": [
    "# Object Oriented Programming"
   ]
  },
  {
   "cell_type": "markdown",
   "metadata": {},
   "source": [
    "### OOPs Concepts\n",
    "1. Object\n",
    "2. Class\n",
    "3. Polymorphism\n",
    "4. Encapsulation\n",
    "5. Inheritance\n",
    "6. Abstraction\n",
    "\n",
    "\n"
   ]
  },
  {
   "cell_type": "markdown",
   "metadata": {},
   "source": [
    "### Class\n",
    "- In python eveything is Object.\n",
    "- Class is a blueprint.\n",
    "- object = variable\n",
    "- Datatype = Class\n",
    "- BLueprint of how an object will behave\n",
    "- Class = data/property + functions/behaviour\n",
    "- Pascal Case"
   ]
  },
  {
   "cell_type": "markdown",
   "metadata": {},
   "source": [
    "### Object\n",
    "- It is an instance of the Object.\n",
    "- audi is a object of class car\n",
    "- list() = [] (#object Literal)"
   ]
  },
  {
   "cell_type": "markdown",
   "metadata": {},
   "source": [
    "Function --> len()\\\n",
    "method --> .append()  #It is the function of a class"
   ]
  },
  {
   "cell_type": "markdown",
   "metadata": {},
   "source": [
    "#### Example: Class ATM\n"
   ]
  },
  {
   "cell_type": "code",
   "execution_count": null,
   "metadata": {},
   "outputs": [],
   "source": [
    "class ATM:\n",
    "    \n",
    "    def __init__(self):   # Constructor __init__\n",
    "        self.pin = \"\"\n",
    "        self.balance = 0\n",
    "        self.menu()\n",
    "\n",
    "    def menu(self):\n",
    "        user_input = input(\"\"\"\n",
    "                          Hello, how would you like to proceed?\n",
    "                           1. Enter 1 to create pin\n",
    "                           2. Enter 2 to deposit\n",
    "                           3. Enter 3 to withdraw\n",
    "                           4. Enter 4 to check balance\n",
    "                           5. Enter 5 to exit   \n",
    "                           \"\"\")\n",
    "        \n",
    "        if user_input == \n"
   ]
  },
  {
   "cell_type": "markdown",
   "metadata": {},
   "source": [
    "0:00 Importance of OOP\n",
    "10:30 Class\n",
    "19:49 Object\n",
    "21:45 Practical implementation of class and object\n",
    "29:20 Constructor\n",
    "56.00 self in python\n",
    "1:06:18 Create own data type (Fraction) & corresponding methods to add, sub, mul and divide fractions\n",
    "1:23:15 Encapsulation -- private data members, getter and setter,\n",
    "1:49:20 Reference Variable\n",
    "1:51:30 Pass by reference\n",
    "2:11:40 Collection of objects\n",
    "2:16:45 Static Variables and methods\n",
    "2:31:05 Class relationship - Aggregation\n",
    "2:43:27 Inheritance\n",
    "2:55:26 Class diagram\n",
    "3:01:00 Polymorphism\n",
    "3:10:20 User of super()\n",
    "3:22:10 Types of inheritance\n",
    "3:28:10 MRO - Method Resolution Order\n",
    "3:35:35 Method overloading and operator overloading\n",
    "3:44:25 Project\n",
    "\n",
    "dunder method \n",
    "instance variable\n"
   ]
  }
 ],
 "metadata": {
  "language_info": {
   "name": "python"
  }
 },
 "nbformat": 4,
 "nbformat_minor": 2
}
