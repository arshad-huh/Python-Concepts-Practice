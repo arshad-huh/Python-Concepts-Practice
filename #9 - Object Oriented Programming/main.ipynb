{
 "cells": [
  {
   "cell_type": "markdown",
   "metadata": {},
   "source": [
    "# # Object Oriented Programming"
   ]
  },
  {
   "cell_type": "markdown",
   "metadata": {},
   "source": [
    "#### Topics Discussed\n",
    "- [Class](#class)\n",
    "- [Object](#object)\n",
    "- [Inheritance](#1)\n",
    "- [Polymorphism](#2)\n",
    "- [Encapsulation](#3)\n",
    "- [Abstraction](#4)\n",
    "- [Types of relationship b/w classes](#5)\n",
    "- [Types Of Methods and Attributes](#6)\n",
    "\n",
    "Object-oriented programming (OOP) is a programming pattern based on the concept of objects. Objects consist of data and methods. The object's data are its properties, which define what it is. And the object's methods, are its functions, that define what the object can do.\\\n",
    "\\\n",
    "It is a programming paradigm or methodology, to design a program using classes and objects OOPS treats every entity as an object."
   ]
  },
  {
   "cell_type": "markdown",
   "metadata": {},
   "source": [
    "## CLASS <a id='class'></a>\n",
    "- Logical Entity\n",
    "- Class is a blueprint.\n",
    "- Datatype = Class\n",
    "- A class is used to create user-defined data structures in Python. \n"
   ]
  },
  {
   "cell_type": "markdown",
   "metadata": {},
   "source": [
    "Classes make the code more manageable by avoiding complex codebases. It does so, by creating a blueprint or a design of how anything should be defined. It defines what properties or functions, any object which is derived from the class should have."
   ]
  },
  {
   "cell_type": "markdown",
   "metadata": {},
   "source": [
    "## OBJECT <a id='object'></a>\n",
    "- Physical Entity.\n",
    "- In python eveything is Object.\n",
    "- Object = variable\n",
    "\n",
    "Objects are anything that has properties and some behaviors. The properties of objects are often referred to as variables of the object, and behaviors are referred to as the functions of the objects. \n",
    "\n",
    "Eg: a Pen is a real-life object. The property of a pen includes its color, and type (gel pen or ball pen). And, the behavior of the pen may include that, it can write, draw, etc.\n",
    "An instance of a class is called the object. It is the implementation of the class and exists in real.\n",
    "\n",
    "An object is a collection of data (variables) and methods (functions) that access the data. It is the real implementation of a class.\n",
    "\n",
    "Instances are like virtual copies, they are created based on the class blueprint but can have unique attribute values."
   ]
  },
  {
   "cell_type": "code",
   "execution_count": null,
   "metadata": {},
   "outputs": [],
   "source": [
    "class Human:\n",
    "    species = \"Homo Sapiens\"\n",
    "    # Method\n",
    "    def __init__(self, name, age, gender):\n",
    "        self.name = name\n",
    "        self.age = age\n",
    "        self.gender = gender\n",
    "        \n",
    "    # Method\n",
    "    def speak(self):\n",
    "        return f\"Hello everyone! I am {self.name}\"\n",
    "    \n",
    "    # Method\n",
    "    def eat(self, favouriteDish):\n",
    "        return f\"I love to eat {favouriteDish}!!!\"\n",
    "\n",
    "x = Human(\"Arshad\",18,\"male\")\n",
    "print(x.speak())\n",
    "print(x.eat(\"biryani\"))"
   ]
  },
  {
   "cell_type": "markdown",
   "metadata": {},
   "source": [
    "##### Self Parameter:\n",
    "You can think of self as a way for an object to refer to itself.\n",
    "\n",
    "The self parameter is a reference to the current instance of the class. It means, the self parameter points to the address of the current object of a class, allowing us to access the data of its(the object's) variables."
   ]
  },
  {
   "cell_type": "code",
   "execution_count": null,
   "metadata": {},
   "outputs": [],
   "source": [
    "class Dog:\n",
    "    def bark(self):\n",
    "        print(\"Woof!\")\n",
    "\n",
    "my_dog = Dog()  # Creating an instance of the Dog class\n",
    "my_dog.bark()   # Calling the bark method on the instance\n",
    "\n",
    "# In this example, self is like a placeholder for the actual instance (my_dog). When my_dog.bark() is called, self refers to my_dog, and the method can access the attributes and behaviors of that specific dog instance."
   ]
  },
  {
   "cell_type": "markdown",
   "metadata": {},
   "source": [
    "## 1. INHERITANCE <a id='1'></a>"
   ]
  },
  {
   "cell_type": "markdown",
   "metadata": {},
   "source": [
    "- Inheritance too is very similar to the real-life scenario. Here, the \"child classes\" inherit features from their \"parent classes.\" And the features they inherit here are termed as \"properties\" and \"methods\"!"
   ]
  },
  {
   "cell_type": "code",
   "execution_count": null,
   "metadata": {},
   "outputs": [],
   "source": [
    "class Human:     #parent class\n",
    "    def __init__(self, name, age, gender):\n",
    "        self.name = name\n",
    "        self.age = age\n",
    "        self.gender = gender\n",
    "\n",
    "    def description(self):\n",
    "        print(f\"Hey! My name is {self.name}, I'm a {self.gender} and I'm {self.age} years old\")\n",
    "\n",
    "class Boy(Human):    #child class\n",
    "    def schoolName(self, schoolname):\n",
    "        print(f\"I study in {schoolname}\")"
   ]
  },
  {
   "cell_type": "code",
   "execution_count": null,
   "metadata": {},
   "outputs": [],
   "source": [
    "class Human:\n",
    "    def __init__(self,name,age,gender):\n",
    "        self.name = name\n",
    "        self.age = age\n",
    "        self.gender = gender\n",
    "    def description(self):\n",
    "        print(f\"Hey! My name is {self.name}, I'm a {self.gender} and I'm {self.age} years old\")\n",
    "    \n",
    "    def dance(self):\n",
    "        print(\"I can dance\")\n",
    "        \n",
    "class Girl(Human):\n",
    "    def dance(self):\n",
    "        print(\"I can do classic dance\")\n",
    "    def activity(self):\n",
    "        super().dance()        # super() --> refers to the parent class"
   ]
  },
  {
   "cell_type": "markdown",
   "metadata": {},
   "source": [
    "## 2. POLYMORPHISM <a id='2'></a>"
   ]
  },
  {
   "cell_type": "markdown",
   "metadata": {},
   "source": [
    "Did you notice one thing? You could scroll through feeds, listen to music, attend/make phone calls, message -- everything just with a single device - your Mobile Phone! Whoa!"
   ]
  },
  {
   "cell_type": "markdown",
   "metadata": {},
   "source": [
    "So, Polymorphism is something similar to that. 'Poly' means multiple and 'morph' means forms. So, polymorphism altogether means something that has multiple forms. Or, 'some thing' that can have multiple behaviours depending upon the situation."
   ]
  },
  {
   "cell_type": "markdown",
   "metadata": {},
   "source": [
    "Polymorphism in OOPS refers to the functions having the same names but carrying different functionalities. Or, having the same function name, but different function signature(parameters passed to the function)."
   ]
  },
  {
   "cell_type": "code",
   "execution_count": null,
   "metadata": {},
   "outputs": [],
   "source": [
    "# Eg: len() --> In-built polymorphic funtion\n",
    "\n",
    "print(len('deepa'))\n",
    "print(len([1,2,5,9]))\n",
    "print(len({'1':'apple','2':'cherry','3':'banana'}))\n",
    "\n",
    "# Eg: + Addition Operator (Operator Overloading)\n",
    "\n",
    "x = 4 + 5\n",
    "y = 'python' + ' programming'\n",
    "z = 2.5 + 3\n",
    "print(x)\n",
    "print(y)\n",
    "print(z)"
   ]
  },
  {
   "cell_type": "code",
   "execution_count": null,
   "metadata": {},
   "outputs": [],
   "source": [
    "# Eg: Method Overloading\n",
    "\n",
    "class Calc:\n",
    "\n",
    "    def add(self, x, y):\n",
    "        return x + y\n",
    "\n",
    "    def add(self, x, y,z):\n",
    "        return x + y + z \n",
    "\n",
    "# or\n",
    "\n",
    "class Clac:\n",
    "\n",
    "    def add(self, x, y, z=0):\n",
    "        return x + y + z"
   ]
  },
  {
   "cell_type": "code",
   "execution_count": null,
   "metadata": {},
   "outputs": [],
   "source": [
    "# Polymorphism with Class Methods\n",
    "\n",
    "class Monkey:\n",
    "    def color(self):\n",
    "        print(\"The monkey is yellow coloured!\")\n",
    "\n",
    "    def eats(self):\n",
    "        print(\"The monkey eats bananas!\")\n",
    "\n",
    "\n",
    "class Rabbit:\n",
    "    def color(self):\n",
    "        print(\"The rabbit is white coloured!\")\n",
    "\n",
    "    def eats(self):\n",
    "        print(\"The rabbit eats carrots!\")\n",
    "\n",
    "\n",
    "mon = Monkey()\n",
    "rab = Rabbit()\n",
    "for animal in (mon, rab):\n",
    "    animal.color()\n",
    "    animal.eats()"
   ]
  },
  {
   "cell_type": "code",
   "execution_count": null,
   "metadata": {},
   "outputs": [],
   "source": [
    "# Polymorphism with Inheritance\n",
    "\n",
    "class Shape:\n",
    "    def no_of_sides(self):\n",
    "        pass\n",
    "\n",
    "    def two_dimensional(self):\n",
    "        print(\"I am a 2D object. I am from shape class\")\n",
    "\n",
    "\n",
    "class Square(Shape):\n",
    "    \n",
    "    def no_of_sides(self):\n",
    "        print(\"I have 4 sides. I am from Square class\")\n",
    "\n",
    "class Triangle(Shape):\n",
    "    \n",
    "    def no_of_sides(self):\n",
    "        print(\"I have 3 sides. I am from Triangle class\")\n",
    "        \n",
    "# Create an object of Square class\n",
    "sq = Square()\n",
    "# Override the no_of_sides of parent class\n",
    "sq.no_of_sides()\n",
    "\n",
    "# Create an object of triangle class\n",
    "tr = Triangle()\n",
    "# Override the no_of_sides of parent class\n",
    "tr.no_of_sides()\n"
   ]
  },
  {
   "cell_type": "markdown",
   "metadata": {},
   "source": [
    "## 3. ENCAPSULATION <a id='3'></a>"
   ]
  },
  {
   "cell_type": "markdown",
   "metadata": {},
   "source": [
    "Basically, a capsule encapsulates several combinations of medicine. Similarly, in programming, the variables and the methods remain enclosed inside a capsule called the 'class'!"
   ]
  },
  {
   "cell_type": "markdown",
   "metadata": {},
   "source": [
    "In other words, encapsulation is a programming technique that binds the class members (variables and methods) together and prevents them from being accessed by other classes. It is one of the concepts of OOPS in Python."
   ]
  },
  {
   "cell_type": "markdown",
   "metadata": {},
   "source": [
    "Encapsulation is a way to ensure security. It hides the data from the access of outsiders. An organization can protect its object/information against unwanted access by clients or any unauthorized person by encapsulating it."
   ]
  },
  {
   "cell_type": "markdown",
   "metadata": {},
   "source": [
    "#### Getter and Setter\n",
    " If anyone wants some data, they can only get it by calling the getter method. And, if they want to set some value to the data, they must use the setter method for that, otherwise, they won't be able to do the same. But internally, how these getter and setter methods are performed remains hidden from the outside world."
   ]
  },
  {
   "cell_type": "code",
   "execution_count": null,
   "metadata": {},
   "outputs": [],
   "source": [
    "# Eg:\n",
    "class Library:\n",
    "    def __init__(self, id, name):\n",
    "        self.bookId = id\n",
    "        self.bookName = name\n",
    "        \n",
    "    def setBookName(self, newBookName): #setters method to set the book name\n",
    "        self.bookName = newBookName\n",
    "        \n",
    "    def getBookName(self): #getters method to get the book name\n",
    "        print(f\"The name of book is {self.bookName}\")\n",
    "\n",
    "        \n",
    "book = Library(101,\"The Witchers\")\n",
    "book.getBookName()\n",
    "book.setBookName(\"The Witchers Returns\")\n",
    "book.getBookName()"
   ]
  },
  {
   "cell_type": "markdown",
   "metadata": {},
   "source": [
    "#### Access Modifiers\n",
    "Access modifiers limit access to the variables and methods of a class."
   ]
  },
  {
   "cell_type": "markdown",
   "metadata": {},
   "source": [
    "- Public Member: Accessible anywhere from outside the class.\n",
    "- Private Member: Accessible only within the class. (Double underscore __)\n",
    "- Protected Member: Accessible within the class and it's sub-classes. (Single underscore _)\n"
   ]
  },
  {
   "cell_type": "code",
   "execution_count": null,
   "metadata": {},
   "outputs": [],
   "source": [
    "class Employee:\n",
    "    def __init__(self, name, employeeId, salary):\n",
    "        self.name = name    #making employee name public\n",
    "        self._empID = employeeId  #making employee ID protected\n",
    "        self.__salary = salary  #making salary private\n",
    "\n",
    "    def getSalary(self):\n",
    "        print(f\"The salary of Employee is {self.__salary}\")\n",
    "\n",
    "employee1 = Employee(\"John Gates\", 110514, \"$1500\")\n",
    "\n",
    "print(f\"The Employee's name is {employee1.name}\")\n",
    "print(f\"The Employee's ID is {employee1._empID}\")\n",
    "print(f\"The Employee's salary is {employee1.salary}\") #will throw an error because salary is defined as private\n"
   ]
  },
  {
   "cell_type": "markdown",
   "metadata": {},
   "source": [
    "We can access private members from outside of a class by creating public method to access private members (just like we did above). There is one more method to get access called name mangling."
   ]
  },
  {
   "cell_type": "code",
   "execution_count": null,
   "metadata": {},
   "outputs": [],
   "source": [
    "# Name mangling \n",
    "\n",
    "class Student: \n",
    "    def __init__(self, name): \n",
    "        self.__name = name \n",
    "  \n",
    "s1 = Student(\"Arshad\") \n",
    "print(s1._Student__name)"
   ]
  },
  {
   "cell_type": "markdown",
   "metadata": {},
   "source": [
    "## 4. ABSTRACTION <a id='4'></a>"
   ]
  },
  {
   "cell_type": "markdown",
   "metadata": {},
   "source": [
    "Everything we can see here is at an abstract level. We are not able to see the internal details, but just the result it is producing (which actually matters to us)."
   ]
  },
  {
   "cell_type": "markdown",
   "metadata": {},
   "source": [
    "Abstraction in a similar way just shows us the functionalities anything holds, hiding all the implementations or inner details.\n"
   ]
  },
  {
   "cell_type": "markdown",
   "metadata": {},
   "source": [
    "- Abstraction is used for hiding the background details or any unnecessary implementation of the data, so that users only see the required information.\n",
    "- In Python, abstraction can be achieved by using abstract classes\n",
    "- A class that consists of one or more abstract methods is called the \"abstract class\".\n",
    "- Abstract methods do not contain any implementation of their own.\n",
    "- Abstract class can be inherited by any subclass. The subclasses that inherit the abstract classes provide the implementations for their abstract methods.\n",
    "- Abstract classes can act like blueprint to other classes, which are useful when we are designing large functions. And the subclass which inherits them can refer to the abstract methods for implementing the features.\n",
    "- Python provides the abc module to use the abstraction"
   ]
  },
  {
   "cell_type": "code",
   "execution_count": null,
   "metadata": {},
   "outputs": [],
   "source": [
    "from abc import ABC  # Abstract Base Class\n",
    "\n",
    "class Vehicle(ABC):  # inherits abstract class\n",
    "    #abstract method\n",
    "    def no_of_wheels(self):\n",
    "        pass\n",
    "\n",
    "class Bike(Vehicle):\n",
    "    def no_of_wheels(self): # provide definition for abstract method\n",
    "        print(\"Bike have 2 wheels\")  \n",
    "\n",
    "class Tempo(Vehicle):\n",
    "    def no_of_wheels(self):  # provide definition for abstract method\n",
    "        print(\"Tempo have 3 wheels\")\n",
    "\n",
    "class Truck(Vehicle):  # provide definition for abstract method\n",
    "    def no_of_wheels(self):\n",
    "        print(\"Truck have 4 wheels\")\n",
    "\n",
    "\n",
    "bike = Bike()\n",
    "bike.no_of_wheels()\n",
    "tempo = Tempo()\n",
    "tempo.no_of_wheels()\n",
    "truck = Truck()\n",
    "truck.no_of_wheels()"
   ]
  },
  {
   "cell_type": "markdown",
   "metadata": {},
   "source": [
    "##### Some notable points on Abstract classes are:\n",
    "- Abstract classes cannot be instantiated. In simple words, we cannot create objects for the abstract classes.\n",
    "- An Abstract class can contain the both types of methods -- normal and abstract method. In the abstract methods, we do not provide any definition or code. But in the normal methods, we provide the implementation of the code needed for the method."
   ]
  },
  {
   "cell_type": "markdown",
   "metadata": {},
   "source": [
    "## Types of relationships between classes <a id='5'></a>"
   ]
  },
  {
   "cell_type": "markdown",
   "metadata": {},
   "source": [
    "##### 1. Has-A Relationship: (Aggregation)\n",
    "\n",
    "Definition: A \"has-a\" relationship signifies that one class has another class as a part of its internal structure. This is often implemented through aggregation or composition.\n",
    "\n",
    "Example: If a Car class has an Engine class as one of its attributes, we say that Car has an \"Engine\" (Car has-a Engine)."
   ]
  },
  {
   "cell_type": "code",
   "execution_count": null,
   "metadata": {},
   "outputs": [],
   "source": [
    "class Engine:\n",
    "    def start(self):\n",
    "        print(\"Engine started\")\n",
    "\n",
    "class Car:\n",
    "    def __init__(self):\n",
    "        self.engine = Engine()  # Car has-a Engine"
   ]
  },
  {
   "cell_type": "markdown",
   "metadata": {},
   "source": [
    "##### 2. Is-A Relationship: (Inheritance)\n",
    "\n",
    "Definition: An \"is-a\" relationship represents inheritance, where one class is a subtype of another class. The subclass inherits the properties and behaviors of the superclass.\n",
    "\n",
    "Example: If we have a Bird class and a Penguin class, and Penguin is a subclass of Bird, we say that a Penguin is-a Bird."
   ]
  },
  {
   "cell_type": "code",
   "execution_count": null,
   "metadata": {},
   "outputs": [],
   "source": [
    "class Bird:\n",
    "    def fly(self):\n",
    "        print(\"Bird can fly\")\n",
    "\n",
    "class Penguin(Bird):\n",
    "    def swim(self):\n",
    "        print(\"Penguin can swim\")\n",
    "\n",
    "my_penguin = Penguin()\n",
    "my_penguin.fly()  # Inherited from Bird class\n",
    "my_penguin.swim()  # Specific to Penguin class"
   ]
  },
  {
   "cell_type": "markdown",
   "metadata": {},
   "source": [
    "## Types of Methods <a id='6'></a>\n"
   ]
  },
  {
   "cell_type": "markdown",
   "metadata": {},
   "source": [
    "### 1. Instance Method:"
   ]
  },
  {
   "cell_type": "markdown",
   "metadata": {},
   "source": [
    "These are the most common type of methods.\n",
    "\n",
    "They operate on an instance of a class and have access to the instance's attributes.\n",
    "\n",
    "The first parameter of an instance method is typically self, which refers to the instance on which the method is called."
   ]
  },
  {
   "cell_type": "markdown",
   "metadata": {},
   "source": [
    "##### (i) Constructor\n",
    "- The term \"constructor\" typically refers to the method used to initialize the object's attributes when an object is created.\n",
    "- In Python, the constructor is usually the __init__ method. This method is automatically called when an object is instantiated from a class.\n",
    "- It is used for setting up the initial state of the object, initializing attributes, and performing any other setup tasks.\n"
   ]
  },
  {
   "cell_type": "code",
   "execution_count": null,
   "metadata": {},
   "outputs": [],
   "source": [
    "class MyClass:\n",
    "    def __init__(self, parameter1, parameter2):\n",
    "        self.attribute1 = parameter1\n",
    "        self.attribute2 = parameter2"
   ]
  },
  {
   "cell_type": "markdown",
   "metadata": {},
   "source": [
    "##### (ii) Dunder Methods:\n",
    "\n",
    "- Dunder methods, or magic methods, are special instance methods in Python that have double underscores at the beginning and end of their names (e.g., __str__, __len__, __add__, etc.).\n",
    "- These methods are used to define behavior for built-in operations on objects, such as string representation, length, addition, and more.\n",
    "- While the __init__ method is a dunder method, not all dunder methods are constructors."
   ]
  },
  {
   "cell_type": "code",
   "execution_count": null,
   "metadata": {},
   "outputs": [],
   "source": [
    "class MyClass:\n",
    "    def __str__(self):\n",
    "        return \"This is an instance of MyClass\""
   ]
  },
  {
   "cell_type": "markdown",
   "metadata": {},
   "source": [
    "##### (iii) (Regular)Instance Methods:"
   ]
  },
  {
   "cell_type": "markdown",
   "metadata": {},
   "source": [
    "These are standard instance methods that perform various operations on the attributes of an object."
   ]
  },
  {
   "cell_type": "code",
   "execution_count": null,
   "metadata": {},
   "outputs": [],
   "source": [
    "class MyClass:\n",
    "    def regular_method(self):\n",
    "        # Code for a regular instance method\n",
    "        pass"
   ]
  },
  {
   "cell_type": "markdown",
   "metadata": {},
   "source": [
    "### 2. Class Methods"
   ]
  },
  {
   "cell_type": "markdown",
   "metadata": {},
   "source": [
    "- These methods are bound to the class and not the instance of the class.\n",
    "- They are defined using the @classmethod decorator, and the first parameter is typically named cls to refer to the class.\n",
    "- Class methods can be called on the class itself or on an instance of the class."
   ]
  },
  {
   "cell_type": "code",
   "execution_count": null,
   "metadata": {},
   "outputs": [],
   "source": [
    "class MyClass:\n",
    "    class_variable = \"I am a class variable\"\n",
    "\n",
    "    @classmethod\n",
    "    def class_method(cls):\n",
    "        print(\"This is a class method.\")\n",
    "        print(cls.class_variable)             # Class Attribute\n",
    "\n",
    "MyClass.class_method()"
   ]
  },
  {
   "cell_type": "markdown",
   "metadata": {},
   "source": [
    "DIFFERENCE BETWEEN CLASS METHOD AND INSTANCE METHOD"
   ]
  },
  {
   "cell_type": "code",
   "execution_count": null,
   "metadata": {},
   "outputs": [],
   "source": [
    "class MyClass:\n",
    "    class_variable = \"Class Variable\"\n",
    "\n",
    "    def __init__(self, instance_variable):\n",
    "        self.instance_variable = instance_variable\n",
    "\n",
    "    def instance_method(self):\n",
    "        print(\"Calling instance method\")\n",
    "        print(f\"Instance variable: {self.instance_variable}\")\n",
    "        print(f\"Class variable: {self.class_variable}\\n\")\n",
    "\n",
    "    @classmethod\n",
    "    def class_method(cls):\n",
    "        print(\"Calling class method\")\n",
    "        print(f\"Class variable: {cls.class_variable}\\n\")\n",
    "\n",
    "# Creating an instance of MyClass\n",
    "obj = MyClass(instance_variable=\"Instance Variable\")\n",
    "\n",
    "# Calling instance method on the instance\n",
    "obj.instance_method()\n",
    "\n",
    "# Calling class method on the class\n",
    "MyClass.class_method()\n",
    "\n",
    "# Calling class method on the instance\n",
    "obj.class_method()"
   ]
  },
  {
   "cell_type": "markdown",
   "metadata": {},
   "source": [
    "- NOTE: While the specific example provided shows similar output for both cases, there can be scenarios where calling a class method on the class or on an instance might lead to different behavior based on the logic implemented within the class method."
   ]
  },
  {
   "cell_type": "markdown",
   "metadata": {},
   "source": [
    "### 3. Static Method"
   ]
  },
  {
   "cell_type": "markdown",
   "metadata": {},
   "source": [
    "- These methods are not bound to the instance or the class and don't have access to self or cls.\n",
    "- They are defined using the @staticmethod decorator.\n",
    "- Static methods are primarily used when a method doesn't need access to instance or class attributes."
   ]
  },
  {
   "cell_type": "code",
   "execution_count": null,
   "metadata": {},
   "outputs": [],
   "source": [
    "class MyClass:\n",
    "    @staticmethod\n",
    "    def static_method():\n",
    "        print(\"This is a static method.\")\n",
    "        MyClass.static_attribute = \"Static Value\"   # Static(Class-Level) Attribute\n",
    "\n",
    "MyClass.static_method()"
   ]
  },
  {
   "cell_type": "markdown",
   "metadata": {},
   "source": [
    "DIFFERENCE BETWEEN STATIC AND CLASS METHOD"
   ]
  },
  {
   "cell_type": "code",
   "execution_count": null,
   "metadata": {},
   "outputs": [],
   "source": [
    "class MyClass:\n",
    "    class_variable = \"Class Variable\"\n",
    "\n",
    "    def __init__(self, instance_variable):\n",
    "        self.instance_variable = instance_variable\n",
    "\n",
    "    @staticmethod\n",
    "    def static_method():\n",
    "        print(\"Calling static method\")\n",
    "\n",
    "    @classmethod\n",
    "    def class_method(cls):\n",
    "        print(\"Calling class method\")\n",
    "        print(f\"Class variable: {cls.class_variable}\")\n",
    "\n",
    "# Creating an instance of MyClass\n",
    "obj = MyClass(instance_variable=\"Instance Variable\")\n",
    "\n",
    "# Calling static method on the class\n",
    "MyClass.static_method()\n",
    "\n",
    "# Calling static method on the instance\n",
    "obj.static_method()\n",
    "\n",
    "# Calling class method on the class\n",
    "MyClass.class_method()\n",
    "\n",
    "# Calling class method on the instance\n",
    "obj.class_method()"
   ]
  },
  {
   "cell_type": "markdown",
   "metadata": {},
   "source": [
    "NOTE: \n",
    "\n",
    "Static methods can be called on the class or on an instance, but they don't receive the instance or class as an implicit parameter.\n",
    "\n",
    "Class methods can be called on the class or on an instance, but they receive the class as an implicit parameter (cls)."
   ]
  }
 ],
 "metadata": {
  "kernelspec": {
   "display_name": "Python 3",
   "language": "python",
   "name": "python3"
  },
  "language_info": {
   "codemirror_mode": {
    "name": "ipython",
    "version": 3
   },
   "file_extension": ".py",
   "mimetype": "text/x-python",
   "name": "python",
   "nbconvert_exporter": "python",
   "pygments_lexer": "ipython3",
   "version": "3.12.0"
  }
 },
 "nbformat": 4,
 "nbformat_minor": 2
}
