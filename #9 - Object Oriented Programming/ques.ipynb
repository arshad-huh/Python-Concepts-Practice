{
 "cells": [
  {
   "cell_type": "markdown",
   "metadata": {},
   "source": [
    "# Practicing OOPs!"
   ]
  },
  {
   "cell_type": "markdown",
   "metadata": {},
   "source": [
    "Question 1:\n",
    "\n",
    "Create a simple class in Python called Rectangle. The class should have attributes length and width, and a method calculate_area that returns the area of the rectangle."
   ]
  },
  {
   "cell_type": "code",
   "execution_count": 73,
   "metadata": {},
   "outputs": [
    {
     "name": "stdout",
     "output_type": "stream",
     "text": [
      "624 sq units\n"
     ]
    }
   ],
   "source": [
    "class Rectangle:\n",
    "\n",
    "    def __init__(self, length, width):\n",
    "        self.length = length\n",
    "        self.width = width\n",
    "\n",
    "    def calculate_area(self):\n",
    "        area = self.length * self.width\n",
    "        return area\n",
    "    \n",
    "\n",
    "rect = Rectangle(12, 52)\n",
    "print(rect.calculate_area(), \"sq units\")"
   ]
  },
  {
   "cell_type": "markdown",
   "metadata": {},
   "source": [
    "Question 2:\n",
    "\n",
    "Create a class hierarchy for geometric shapes. Define a base class Shape with an abstract method area. Implement two subclasses: Circle and Square."
   ]
  },
  {
   "cell_type": "code",
   "execution_count": 74,
   "metadata": {},
   "outputs": [
    {
     "name": "stdout",
     "output_type": "stream",
     "text": [
      "530.66\n",
      "576\n"
     ]
    }
   ],
   "source": [
    "from abc import ABC, abstractmethod\n",
    "\n",
    "class Shape(ABC):\n",
    "\n",
    "    @abstractmethod\n",
    "    def area(self):\n",
    "        pass\n",
    "\n",
    "class Circle(Shape):\n",
    "\n",
    "    def __init__(self, radius):\n",
    "        self.radius = radius\n",
    "\n",
    "    def area(self):\n",
    "        return 3.14* self.radius**2\n",
    "    \n",
    "class Square(Shape):\n",
    "\n",
    "    def __init__(self, side):\n",
    "        self.side = side\n",
    "\n",
    "    def area(self):\n",
    "        return self.side*self.side\n",
    "    \n",
    "\n",
    "circ = Circle(13)\n",
    "squr = Square(24)\n",
    "\n",
    "print(circ.area())\n",
    "print(squr.area())"
   ]
  },
  {
   "cell_type": "markdown",
   "metadata": {},
   "source": [
    "Question 3:\n",
    "\n",
    "Create a class Person with attributes name and age. Implement a method is_adult that returns True if the person is 18 or older, otherwise False."
   ]
  },
  {
   "cell_type": "code",
   "execution_count": 75,
   "metadata": {},
   "outputs": [
    {
     "name": "stdout",
     "output_type": "stream",
     "text": [
      "True\n"
     ]
    }
   ],
   "source": [
    "class Person:\n",
    "\n",
    "    def __init__(self, name, age):\n",
    "        self.name = name\n",
    "        self.age = age\n",
    "\n",
    "    def is_adult(self):\n",
    "        return self.age >= 18\n",
    "        \n",
    "p1 = Person(\"Arshad\", 18)\n",
    "print(p1.is_adult())"
   ]
  },
  {
   "cell_type": "markdown",
   "metadata": {},
   "source": [
    "Question 4:\n",
    "\n",
    "Implement a class BankAccount with attributes balance and account_holder. Include methods deposit and withdraw to modify the balance. Ensure that the balance cannot go below zero."
   ]
  },
  {
   "cell_type": "code",
   "execution_count": 76,
   "metadata": {},
   "outputs": [
    {
     "name": "stdout",
     "output_type": "stream",
     "text": [
      "0\n",
      "Insufficient Balance\n",
      "80\n"
     ]
    }
   ],
   "source": [
    "class BankAccount:\n",
    "\n",
    "    def __init__(self, account_holder, balance = 0):\n",
    "        self.balance = balance\n",
    "        self.acc_h = account_holder\n",
    "\n",
    "    def deposit(self, amount):\n",
    "        self.balance += amount\n",
    "\n",
    "    def withdraw(self, amount):\n",
    "        if amount > self.balance:\n",
    "            self.balance -= amount\n",
    "        else:\n",
    "            print(\"Insufficient Balance\")\n",
    "\n",
    "\n",
    "acc1 = BankAccount(\"Arshad\")\n",
    "\n",
    "print(acc1.balance)\n",
    "\n",
    "acc1.withdraw(20)\n",
    "\n",
    "acc1.deposit(100)\n",
    "acc1.withdraw(5)\n",
    "\n",
    "print(acc1.balance)"
   ]
  },
  {
   "cell_type": "markdown",
   "metadata": {},
   "source": [
    "Question 5:\n",
    "\n",
    "Create a class Employee with attributes name, salary, and a class variable raise_percentage. Implement a method apply_raise that increases the salary based on the raise percentage."
   ]
  },
  {
   "cell_type": "code",
   "execution_count": 77,
   "metadata": {},
   "outputs": [
    {
     "name": "stdout",
     "output_type": "stream",
     "text": [
      "110000.0\n"
     ]
    }
   ],
   "source": [
    "class Employee:\n",
    "\n",
    "    raise_percentage = 0.10\n",
    "\n",
    "    def __init__(self, name, salary):\n",
    "        self.name = name\n",
    "        self.salary = salary\n",
    "\n",
    "    def apply_raise(self):\n",
    "        self.salary += self.salary*self.raise_percentage\n",
    "\n",
    "\n",
    "employee1 = Employee(\"Arshad\", 100000)\n",
    "employee1.apply_raise()\n",
    "\n",
    "print(employee1.salary) "
   ]
  },
  {
   "cell_type": "markdown",
   "metadata": {},
   "source": [
    "Question 6:\n",
    "\n",
    "Create a class Library that contains a list of books. Implement methods add_book to add a book, remove_book to remove a book, and list_books to display all books."
   ]
  },
  {
   "cell_type": "code",
   "execution_count": 78,
   "metadata": {},
   "outputs": [
    {
     "name": "stdout",
     "output_type": "stream",
     "text": [
      "The Discovery of India\n",
      "Man in search of meaning\n",
      "Zero to one\n",
      "Man in search of meaning\n",
      "Zero to one\n"
     ]
    }
   ],
   "source": [
    "class Library:\n",
    "\n",
    "    def __init__(self, books=None):\n",
    "        self.books = books if books is not None else []\n",
    "\n",
    "    def add_books(self, *books):\n",
    "        self.books.extend(books)\n",
    "\n",
    "    def remove_books(self, *books):\n",
    "        for book in books:\n",
    "            if book in self.books:\n",
    "                self.books.remove(book)\n",
    "            else:\n",
    "                print(f\"No such book: {book}\")\n",
    "\n",
    "    def list_books(self):\n",
    "        for book in self.books:\n",
    "            print(book)\n",
    "\n",
    "lib = Library()\n",
    "\n",
    "lib.add_books(\"The Discovery of India\", \"Man in search of meaning\", \"Zero to one\")\n",
    "lib.list_books()\n",
    "\n",
    "lib.remove_books(\"The Discovery of India\")\n",
    "lib.list_books()"
   ]
  },
  {
   "cell_type": "markdown",
   "metadata": {},
   "source": [
    "Question 7:\n",
    "\n",
    "Implement a class Vector representing a 3D vector. Include methods to calculate the magnitude, dot product, and cross product of two vectors."
   ]
  },
  {
   "cell_type": "code",
   "execution_count": 79,
   "metadata": {},
   "outputs": [
    {
     "name": "stdout",
     "output_type": "stream",
     "text": [
      "3.7416573867739413\n",
      "32\n",
      "7.3484692283495345\n"
     ]
    }
   ],
   "source": [
    "class Vector:\n",
    "    def __init__(self, x, y, z):\n",
    "        self.x = x\n",
    "        self.y = y\n",
    "        self.z = z\n",
    "\n",
    "    def magnitude(self):\n",
    "        return (self.x**2 + self.y**2 + self.z**2)**0.5\n",
    "\n",
    "    def dot_product(self, other):\n",
    "        return self.x * other.x + self.y * other.y + self.z * other.z\n",
    "\n",
    "    def cross_product(self, other):\n",
    "        i = self.y * other.z - self.z * other.y\n",
    "        j = self.z * other.x - self.x * other.z\n",
    "        k = self.x * other.y - self.y * other.x\n",
    "        return Vector(i, j, k)\n",
    "\n",
    "vector1 = Vector(1, 2, 3)\n",
    "vector2 = Vector(4, 5, 6)\n",
    "print(vector1.magnitude())       \n",
    "print(vector1.dot_product(vector2))  \n",
    "print(vector1.cross_product(vector2).magnitude())  "
   ]
  },
  {
   "cell_type": "markdown",
   "metadata": {},
   "source": [
    "Question 8:\n",
    "\n",
    "Implement a class Stack with methods push, pop, and is_empty. Use a list to store the stack elements."
   ]
  },
  {
   "cell_type": "code",
   "execution_count": 80,
   "metadata": {},
   "outputs": [
    {
     "name": "stdout",
     "output_type": "stream",
     "text": [
      "20\n",
      "False\n"
     ]
    }
   ],
   "source": [
    "class Stack:\n",
    "\n",
    "    def __init__(self):\n",
    "        self.items = []\n",
    "\n",
    "    def push(self, item):\n",
    "        self.items.append(item)\n",
    "\n",
    "    def pop(self):\n",
    "        if not self.is_empty():\n",
    "            return self.items.pop()\n",
    "        else:\n",
    "            print(\"Stack is Empty!\")\n",
    "    \n",
    "    def is_empty(self):\n",
    "        return len(self.items) == 0\n",
    "    \n",
    "stack = Stack()\n",
    "stack.push(10)\n",
    "stack.push(20)\n",
    "\n",
    "print(stack.pop())  \n",
    "print(stack.is_empty()) "
   ]
  },
  {
   "cell_type": "markdown",
   "metadata": {},
   "source": [
    "Question 9:\n",
    "\n",
    "Implement a class Person with a class variable count to keep track of the number of instances created. Implement a class method get_count that returns the current count.\n",
    "\n"
   ]
  },
  {
   "cell_type": "code",
   "execution_count": 81,
   "metadata": {},
   "outputs": [
    {
     "name": "stdout",
     "output_type": "stream",
     "text": [
      "1\n",
      "2\n",
      "4\n"
     ]
    }
   ],
   "source": [
    "class Person:\n",
    "\n",
    "    count = 0\n",
    "\n",
    "    def __init__(self, name):\n",
    "        self.name = name\n",
    "        Person.count += 1\n",
    "\n",
    "    @classmethod\n",
    "    def get_count(cls):\n",
    "        return cls.count\n",
    "    \n",
    "person1 = Person(\"Arshad\")\n",
    "print(Person.get_count())\n",
    "\n",
    "person2 = Person(\"Bob\")\n",
    "print(Person.get_count())\n",
    "\n",
    "\n",
    "person3 = Person(\"Alice\")\n",
    "person4 = Person(\"Justin\")\n",
    "\n",
    "print(Person.get_count())"
   ]
  },
  {
   "cell_type": "markdown",
   "metadata": {},
   "source": [
    "Question 10:\n",
    "\n",
    "Create a class MathOperations with a static method add_numbers that takes two numbers as parameters and returns their sum."
   ]
  },
  {
   "cell_type": "code",
   "execution_count": 82,
   "metadata": {},
   "outputs": [
    {
     "name": "stdout",
     "output_type": "stream",
     "text": [
      "12\n"
     ]
    }
   ],
   "source": [
    "class MathOperation:\n",
    "\n",
    "    @staticmethod\n",
    "    def add_numbers(x, y):\n",
    "        return x + y\n",
    "    \n",
    "result = MathOperation()\n",
    "print(result.add_numbers(5, 7))"
   ]
  },
  {
   "cell_type": "markdown",
   "metadata": {},
   "source": [
    "Question 11:\n",
    "\n",
    "Create a class Vector representing a 2D vector. Implement dunder methods __add__ and __mul__ to perform vector addition and scalar multiplication, respectively."
   ]
  },
  {
   "cell_type": "code",
   "execution_count": 83,
   "metadata": {},
   "outputs": [
    {
     "name": "stdout",
     "output_type": "stream",
     "text": [
      "<__main__.Vector object at 0x0000015C491CBA70>\n",
      "679 , 98\n"
     ]
    }
   ],
   "source": [
    "class Vector:\n",
    "\n",
    "    def __init__(self, x, y):\n",
    "        self.x = x\n",
    "        self.y = y\n",
    "\n",
    "    def __add__(self, other):\n",
    "        return Vector(self.x + other.x, self.y + other.y)\n",
    "    \n",
    "    def __mul__(self, scalar):\n",
    "        return Vector(self.x * scalar, self.y * scalar)\n",
    "    \n",
    "\n",
    "vec1 = Vector(6, 9)\n",
    "vec2 = Vector(91, 5)\n",
    "\n",
    "add_vec = vec1 + vec2\n",
    "mul_vec = add_vec * 7\n",
    "\n",
    "print(add_vec)\n",
    "print(mul_vec.x, \",\", mul_vec.y)"
   ]
  },
  {
   "cell_type": "markdown",
   "metadata": {},
   "source": [
    "Question 12:\n",
    "\n",
    "Composition:\n",
    "Create a class Engine that represents an engine with a method start that prints \"Engine started.\" Create a class Car that has an instance variable engine of type Engine. When a Car object is created, it should contain an instance of the Engine class."
   ]
  },
  {
   "cell_type": "code",
   "execution_count": 84,
   "metadata": {},
   "outputs": [
    {
     "name": "stdout",
     "output_type": "stream",
     "text": [
      "Engine started.\n"
     ]
    }
   ],
   "source": [
    "class Engine:\n",
    "    def start(self):\n",
    "        print(\"Engine started.\")\n",
    "\n",
    "class Car:\n",
    "    def __init__(self):\n",
    "        self.engine = Engine()\n",
    "\n",
    "my_car = Car()\n",
    "my_car.engine.start()  "
   ]
  },
  {
   "cell_type": "markdown",
   "metadata": {},
   "source": [
    "Question 13:\n",
    "\n",
    "Aggregation:\n",
    "Implement a class Department with a list of employees. Create a class Employee with attributes name and position. The Department class should have methods add_employee and list_employees to manage its employees."
   ]
  },
  {
   "cell_type": "code",
   "execution_count": 85,
   "metadata": {},
   "outputs": [
    {
     "name": "stdout",
     "output_type": "stream",
     "text": [
      "Alice - Manager\n",
      "Bob - Developer\n"
     ]
    }
   ],
   "source": [
    "class Employee:\n",
    "    def __init__(self, name, position):\n",
    "        self.name = name\n",
    "        self.position = position\n",
    "\n",
    "class Department:\n",
    "    def __init__(self):\n",
    "        self.employees = []\n",
    "\n",
    "    def add_employee(self, employee):\n",
    "        self.employees.append(employee)\n",
    "\n",
    "    def list_employees(self):\n",
    "        for employee in self.employees:\n",
    "            print(f\"{employee.name} - {employee.position}\")\n",
    "\n",
    "\n",
    "dept = Department()\n",
    "emp1 = Employee(\"Alice\", \"Manager\")\n",
    "emp2 = Employee(\"Bob\", \"Developer\")\n",
    "\n",
    "dept.add_employee(emp1)\n",
    "dept.add_employee(emp2)\n",
    "dept.list_employees()"
   ]
  },
  {
   "cell_type": "markdown",
   "metadata": {},
   "source": [
    "Question 14:\n",
    "\n",
    "Composition with Properties:\n",
    "Create a class Book with attributes title, author, and publisher. Create a class Library that has an instance variable books which is a list of Book objects."
   ]
  },
  {
   "cell_type": "code",
   "execution_count": 86,
   "metadata": {},
   "outputs": [
    {
     "name": "stdout",
     "output_type": "stream",
     "text": [
      "Python Basics by John Doe, published by Tech Press\n",
      "Data Science Handbook by Jane Smith, published by Data Pub\n"
     ]
    }
   ],
   "source": [
    "class Book:\n",
    "    def __init__(self, title, author, publisher):\n",
    "        self.title = title\n",
    "        self.author = author\n",
    "        self.publisher = publisher\n",
    "\n",
    "class Library:\n",
    "    def __init__(self):\n",
    "        self.books = []\n",
    "\n",
    "    def add_book(self, book):\n",
    "        self.books.append(book)\n",
    "\n",
    "    def list_books(self):\n",
    "        for book in self.books:\n",
    "            print(f\"{book.title} by {book.author}, published by {book.publisher}\")\n",
    "\n",
    "\n",
    "book1 = Book(\"Python Basics\", \"John Doe\", \"Tech Press\")\n",
    "book2 = Book(\"Data Science Handbook\", \"Jane Smith\", \"Data Pub\")\n",
    "\n",
    "library = Library()\n",
    "library.add_book(book1)\n",
    "library.add_book(book2)\n",
    "library.list_books()"
   ]
  },
  {
   "cell_type": "markdown",
   "metadata": {},
   "source": [
    "Question 15:\n",
    "\n",
    "Aggregation with Methods:\n",
    "Implement a class Course with a list of students. Create a class Student with attributes name and grade. The Course class should have methods add_student and average_grade to manage its students."
   ]
  },
  {
   "cell_type": "code",
   "execution_count": 87,
   "metadata": {},
   "outputs": [
    {
     "name": "stdout",
     "output_type": "stream",
     "text": [
      "87.5\n"
     ]
    }
   ],
   "source": [
    "class Student:\n",
    "    def __init__(self, name, grade):\n",
    "        self.name = name\n",
    "        self.grade = grade\n",
    "\n",
    "class Course:\n",
    "    def __init__(self):\n",
    "        self.students = []\n",
    "\n",
    "    def add_student(self, student):\n",
    "        self.students.append(student)\n",
    "\n",
    "    def average_grade(self):\n",
    "        total_grades = sum(student.grade for student in self.students)\n",
    "        return total_grades / len(self.students) if self.students else 0\n",
    "\n",
    "\n",
    "course = Course()\n",
    "student1 = Student(\"Alice\", 90)\n",
    "student2 = Student(\"Bob\", 85)\n",
    "\n",
    "course.add_student(student1)\n",
    "course.add_student(student2)\n",
    "\n",
    "print(course.average_grade())"
   ]
  }
 ],
 "metadata": {
  "kernelspec": {
   "display_name": "Python 3",
   "language": "python",
   "name": "python3"
  },
  "language_info": {
   "codemirror_mode": {
    "name": "ipython",
    "version": 3
   },
   "file_extension": ".py",
   "mimetype": "text/x-python",
   "name": "python",
   "nbconvert_exporter": "python",
   "pygments_lexer": "ipython3",
   "version": "3.12.0"
  }
 },
 "nbformat": 4,
 "nbformat_minor": 2
}
