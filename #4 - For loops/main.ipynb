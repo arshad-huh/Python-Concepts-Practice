{
 "cells": [
  {
   "cell_type": "markdown",
   "metadata": {},
   "source": [
    "# For Loops"
   ]
  },
  {
   "cell_type": "markdown",
   "metadata": {},
   "source": [
    "Write a simple for loop that prints the numbers from 1 to 5.\n",
    "\n"
   ]
  },
  {
   "cell_type": "code",
   "execution_count": 1,
   "metadata": {},
   "outputs": [
    {
     "name": "stdout",
     "output_type": "stream",
     "text": [
      "1\n",
      "2\n",
      "3\n",
      "4\n",
      "5\n"
     ]
    }
   ],
   "source": [
    "for x in range(1,6):\n",
    "    print(x)"
   ]
  },
  {
   "cell_type": "markdown",
   "metadata": {},
   "source": [
    "Extend the previous code to calculate and print the sum of these numbers.\n"
   ]
  },
  {
   "cell_type": "code",
   "execution_count": 2,
   "metadata": {},
   "outputs": [
    {
     "name": "stdout",
     "output_type": "stream",
     "text": [
      "1\n",
      "2\n",
      "3\n",
      "4\n",
      "5\n",
      "Sum = 15\n"
     ]
    }
   ],
   "source": [
    "sum = 0\n",
    "for x in range(1,6):\n",
    "    print(x)\n",
    "    sum += x\n",
    "\n",
    "print(\"Sum =\", sum)"
   ]
  },
  {
   "cell_type": "markdown",
   "metadata": {},
   "source": [
    "Write a for loop that prints the square of each number from 1 to 5.\n"
   ]
  },
  {
   "cell_type": "code",
   "execution_count": 3,
   "metadata": {},
   "outputs": [
    {
     "name": "stdout",
     "output_type": "stream",
     "text": [
      "1 squared is 1\n",
      "2 squared is 4\n",
      "3 squared is 9\n",
      "4 squared is 16\n",
      "5 squared is 25\n"
     ]
    }
   ],
   "source": [
    "for x in range(1,6):\n",
    "    print(x, \"squared is\", x**2)"
   ]
  },
  {
   "cell_type": "markdown",
   "metadata": {},
   "source": [
    "Extend the previous code to calculate and print the product of these squared numbers.\n"
   ]
  },
  {
   "cell_type": "code",
   "execution_count": 4,
   "metadata": {},
   "outputs": [
    {
     "name": "stdout",
     "output_type": "stream",
     "text": [
      "1 squared is 1\n",
      "2 squared is 4\n",
      "3 squared is 9\n",
      "4 squared is 16\n",
      "5 squared is 25\n",
      "product of squared numbers is 14400\n"
     ]
    }
   ],
   "source": [
    "product = 1\n",
    "for x in range(1,6):\n",
    "    y = x**2\n",
    "    print(x, \"squared is\", y)\n",
    "    product *= y\n",
    "\n",
    "print(\"product of squared numbers is\", product)"
   ]
  },
  {
   "cell_type": "markdown",
   "metadata": {},
   "source": [
    "Write a for loop that iterates over a list of names and prints each name.<br>\n",
    "Names: [\"Alice\", \"Bob\", \"Charlie\", \"David\"]"
   ]
  },
  {
   "cell_type": "code",
   "execution_count": 5,
   "metadata": {},
   "outputs": [
    {
     "name": "stdout",
     "output_type": "stream",
     "text": [
      "Alice\n",
      "Bob\n",
      "Charlie\n",
      "David\n"
     ]
    }
   ],
   "source": [
    "names =  [\"Alice\", \"Bob\", \"Charlie\", \"David\"]\n",
    "\n",
    "for x in names:\n",
    "    print(x)"
   ]
  },
  {
   "cell_type": "markdown",
   "metadata": {},
   "source": [
    "Write a for loop that iterates over a string and prints each character along with its ASCII value.\n",
    "String: \"hello\""
   ]
  },
  {
   "cell_type": "code",
   "execution_count": 6,
   "metadata": {},
   "outputs": [
    {
     "name": "stdout",
     "output_type": "stream",
     "text": [
      "Character: h, ASCII Value: 104\n",
      "Character: e, ASCII Value: 101\n",
      "Character: l, ASCII Value: 108\n",
      "Character: l, ASCII Value: 108\n",
      "Character: o, ASCII Value: 111\n"
     ]
    }
   ],
   "source": [
    "string_value = \"hello\"\n",
    "for char in string_value:\n",
    "    print(f\"Character: {char}, ASCII Value: {ord(char)}\")"
   ]
  }
 ],
 "metadata": {
  "kernelspec": {
   "display_name": "Python 3",
   "language": "python",
   "name": "python3"
  },
  "language_info": {
   "codemirror_mode": {
    "name": "ipython",
    "version": 3
   },
   "file_extension": ".py",
   "mimetype": "text/x-python",
   "name": "python",
   "nbconvert_exporter": "python",
   "pygments_lexer": "ipython3",
   "version": "3.12.0"
  }
 },
 "nbformat": 4,
 "nbformat_minor": 2
}
