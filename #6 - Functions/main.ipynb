{
 "cells": [
  {
   "cell_type": "markdown",
   "metadata": {},
   "source": [
    "# Funtions"
   ]
  },
  {
   "cell_type": "markdown",
   "metadata": {},
   "source": [
    "Write a function called add_numbers that takes two parameters, a and b,\n",
    "and returns the sum of the two numbers."
   ]
  },
  {
   "cell_type": "code",
   "execution_count": 1,
   "metadata": {},
   "outputs": [],
   "source": [
    "def add_numbers(a, b):\n",
    "    return a + b"
   ]
  },
  {
   "cell_type": "markdown",
   "metadata": {},
   "source": [
    "Write a function called factorial that calculates the factorial of a given number n. <br>The factorial of a number is the product of all positive integers up to that number."
   ]
  },
  {
   "cell_type": "code",
   "execution_count": 2,
   "metadata": {},
   "outputs": [
    {
     "data": {
      "text/plain": [
       "479001600"
      ]
     },
     "execution_count": 2,
     "metadata": {},
     "output_type": "execute_result"
    }
   ],
   "source": [
    "def factorial(n):\n",
    "    if n == 0 or n == 1:\n",
    "        return 1\n",
    "    else:\n",
    "        return n * factorial(n - 1)\n",
    "    \n",
    "factorial(12)"
   ]
  },
  {
   "cell_type": "markdown",
   "metadata": {},
   "source": [
    "Write a function called count_vowels that takes a string as input\n",
    "and returns the number of vowels (a, e, i, o, u) in the string.\n"
   ]
  },
  {
   "cell_type": "code",
   "execution_count": 3,
   "metadata": {},
   "outputs": [
    {
     "data": {
      "text/plain": [
       "9"
      ]
     },
     "execution_count": 3,
     "metadata": {},
     "output_type": "execute_result"
    }
   ],
   "source": [
    "# First Way\n",
    "def count_vowels(string):\n",
    "    list = [x for x in string if x in \"aeiou\"]\n",
    "    return len(list)\n",
    "    \n",
    "\n",
    "count_vowels(\"I just love the way you code!\")"
   ]
  },
  {
   "cell_type": "code",
   "execution_count": 4,
   "metadata": {},
   "outputs": [
    {
     "data": {
      "text/plain": [
       "8"
      ]
     },
     "execution_count": 4,
     "metadata": {},
     "output_type": "execute_result"
    }
   ],
   "source": [
    "# Second Way\n",
    "def count_vowels(string):\n",
    "    return len(list(filter(lambda x: x in \"aeiou\", [x for x in string])))\n",
    "\n",
    "count_vowels(\"I write code like poetry!\")"
   ]
  },
  {
   "cell_type": "code",
   "execution_count": 5,
   "metadata": {},
   "outputs": [
    {
     "data": {
      "text/plain": [
       "8"
      ]
     },
     "execution_count": 5,
     "metadata": {},
     "output_type": "execute_result"
    }
   ],
   "source": [
    "# Third Way\n",
    "def count_vowels(string):\n",
    "    vowels = \"aeiou\"\n",
    "    return sum(1 for x in string if x.lower() in vowels)\n",
    "\n",
    "count_vowels(\"This is how pro write code!\")"
   ]
  },
  {
   "cell_type": "markdown",
   "metadata": {},
   "source": [
    "Write a function called is_palindrome that checks if a given string is a palindrome.<br>\n",
    "A palindrome is a word, phrase, number, or other sequence of characters that reads the same backward as forward.\n"
   ]
  },
  {
   "cell_type": "code",
   "execution_count": 6,
   "metadata": {},
   "outputs": [
    {
     "data": {
      "text/plain": [
       "'It is a palindrome.'"
      ]
     },
     "execution_count": 6,
     "metadata": {},
     "output_type": "execute_result"
    }
   ],
   "source": [
    "def is_palindrome(input):\n",
    "    x = input.strip().lower()\n",
    "\n",
    "    if x == x[::-1]:\n",
    "        return \"It is a palindrome.\"\n",
    "    else:\n",
    "        return \"It is not a palindrome.\"\n",
    "    \n",
    "is_palindrome(\"    THEeht  \")"
   ]
  },
  {
   "cell_type": "markdown",
   "metadata": {},
   "source": [
    "Write a function called find_maximum that takes a list of numbers as input and returns the maximum number in the list. Do not use the built-in max function.\n"
   ]
  },
  {
   "cell_type": "code",
   "execution_count": 7,
   "metadata": {},
   "outputs": [
    {
     "name": "stdout",
     "output_type": "stream",
     "text": [
      "5654398\n"
     ]
    }
   ],
   "source": [
    "def find_maximum(input_list):\n",
    "    if isinstance(input_list, list):\n",
    "        if not input_list:\n",
    "            return \"The list is empty.\"\n",
    "        \n",
    "        max_num = input_list[0]\n",
    "        for num in input_list[1:]:\n",
    "            if num > max_num:\n",
    "                max_num = num\n",
    "        return max_num\n",
    "    else:\n",
    "        return \"Please enter a list of numbers.\"\n",
    "\n",
    "result = find_maximum([23, 54545, 24, 5654398, 0])\n",
    "print(result)"
   ]
  }
 ],
 "metadata": {
  "kernelspec": {
   "display_name": "Python 3",
   "language": "python",
   "name": "python3"
  },
  "language_info": {
   "codemirror_mode": {
    "name": "ipython",
    "version": 3
   },
   "file_extension": ".py",
   "mimetype": "text/x-python",
   "name": "python",
   "nbconvert_exporter": "python",
   "pygments_lexer": "ipython3",
   "version": "3.12.0"
  }
 },
 "nbformat": 4,
 "nbformat_minor": 2
}
