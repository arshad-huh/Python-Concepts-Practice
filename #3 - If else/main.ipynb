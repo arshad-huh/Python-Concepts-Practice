{
 "cells": [
  {
   "cell_type": "markdown",
   "metadata": {},
   "source": [
    "# If - else Statements"
   ]
  },
  {
   "cell_type": "markdown",
   "metadata": {},
   "source": [
    "Write a simple if statement that checks if a variable 'x' is greater than 10.\n"
   ]
  },
  {
   "cell_type": "code",
   "execution_count": 2,
   "metadata": {},
   "outputs": [
    {
     "name": "stdout",
     "output_type": "stream",
     "text": [
      "x is greater than 10.\n"
     ]
    }
   ],
   "source": [
    "x = 15\n",
    "if x > 10:\n",
    "    print(\"x is greater than 10.\")"
   ]
  },
  {
   "cell_type": "markdown",
   "metadata": {},
   "source": [
    "Extend the previous code to include an else statement that prints \"x is not greater than 10\" if the condition is false.\n"
   ]
  },
  {
   "cell_type": "code",
   "execution_count": null,
   "metadata": {},
   "outputs": [],
   "source": [
    "x = 15\n",
    "if x > 10:\n",
    "    print(\"Variable x is greater than 10.\")\n",
    "else:\n",
    "    print(\"x is not grater than 10.\")"
   ]
  },
  {
   "cell_type": "markdown",
   "metadata": {},
   "source": [
    "if-elif-else statement to categorize a number into \"Positive,\" \"Negative,\" and \"Zero.\"\n"
   ]
  },
  {
   "cell_type": "code",
   "execution_count": 3,
   "metadata": {},
   "outputs": [
    {
     "name": "stdout",
     "output_type": "stream",
     "text": [
      "x is a negative number.\n"
     ]
    }
   ],
   "source": [
    "x = -24\n",
    "\n",
    "if x > 0 :\n",
    "    print(\"x is a postive number.\")\n",
    "elif x < 0 :\n",
    "    print(\"x is a negative number.\")\n",
    "else:\n",
    "    print(\"x is Zero.\")"
   ]
  },
  {
   "cell_type": "markdown",
   "metadata": {},
   "source": [
    "Modify the previous code to include a check for whether the number is an integer or not. <br>Print an error message if it's not an integer."
   ]
  },
  {
   "cell_type": "code",
   "execution_count": 6,
   "metadata": {},
   "outputs": [
    {
     "name": "stdout",
     "output_type": "stream",
     "text": [
      "Error! It is not a integer.\n"
     ]
    }
   ],
   "source": [
    "x = -3j\n",
    "\n",
    "if not isinstance(x, int):\n",
    "    print(\"Error! It is not a integer.\")\n",
    "elif x > 0 :\n",
    "    print(\"x is a postive number.\")\n",
    "elif x < 0 :\n",
    "    print(\"x is a negative number.\")\n",
    "else:\n",
    "    print(\"x is Zero.\")"
   ]
  },
  {
   "cell_type": "markdown",
   "metadata": {},
   "source": [
    "Write an if-elif-else statement to determine if a year is a leap year. <br>A leap year is divisible by 4, but not by 100, unless it is divisible by 400."
   ]
  },
  {
   "cell_type": "code",
   "execution_count": 9,
   "metadata": {},
   "outputs": [
    {
     "name": "stdout",
     "output_type": "stream",
     "text": [
      "It is a leap Year.\n"
     ]
    }
   ],
   "source": [
    "year = int(input(\"Enter a year\"))\n",
    "\n",
    "if (year % 4 == 0 and year % 100 != 0) or (year % 400 == 0):\n",
    "    print(\"It is a leap Year.\")\n",
    "else:\n",
    "    print(\"It is not a leap year.\")"
   ]
  },
  {
   "cell_type": "markdown",
   "metadata": {},
   "source": [
    "Write an if-elif-else statement to check if a number is even, odd, or a multiple of 5.\n"
   ]
  },
  {
   "cell_type": "code",
   "execution_count": 11,
   "metadata": {},
   "outputs": [
    {
     "name": "stdout",
     "output_type": "stream",
     "text": [
      "It is a multiple of five.\n"
     ]
    }
   ],
   "source": [
    "x = int(input(\"Enter a number\"))\n",
    "\n",
    "if x % 5 == 0:\n",
    "    print(\"It is a multiple of five.\")\n",
    "elif x % 2 == 0 :\n",
    "    print(\"It is an even number.\")\n",
    "else:\n",
    "    print(\"It is an Odd number.\")"
   ]
  },
  {
   "cell_type": "markdown",
   "metadata": {},
   "source": [
    "Modify the previous code to include a check for whether the number is a whole number (integer) or not.\n"
   ]
  },
  {
   "cell_type": "code",
   "execution_count": 12,
   "metadata": {},
   "outputs": [
    {
     "name": "stdout",
     "output_type": "stream",
     "text": [
      "It is not an integer.\n"
     ]
    }
   ],
   "source": [
    "x = 23.5\n",
    "\n",
    "if not isinstance(x, int):\n",
    "    print(\"It is not an integer.\")\n",
    "elif x % 5 == 0:\n",
    "    print(\"It is a multiple of five.\")\n",
    "elif x % 2 == 0 :\n",
    "    print(\"It is an even number.\")\n",
    "else:\n",
    "    print(\"It is an Odd number.\")"
   ]
  },
  {
   "cell_type": "markdown",
   "metadata": {},
   "source": [
    "Write an if-elif-else statement to determine if a given string is empty, contains only spaces, or has content.\n"
   ]
  },
  {
   "cell_type": "code",
   "execution_count": 13,
   "metadata": {},
   "outputs": [
    {
     "name": "stdout",
     "output_type": "stream",
     "text": [
      "String is Empty.\n"
     ]
    }
   ],
   "source": [
    "string = input(\"Write something: \")\n",
    "\n",
    "if len(string.strip()) == 0 :\n",
    "    print(\"String is Empty.\")\n",
    "elif string.isspace() :\n",
    "    \"It contains only space.\"\n",
    "else: \n",
    "    print(\"It has content.\")"
   ]
  },
  {
   "cell_type": "markdown",
   "metadata": {},
   "source": [
    "Write an if-elif-else statement to categorize a given angle in degrees into \"Acute,\" \"Right,\" \"Obtuse,\" or \"Straight.\"\n"
   ]
  },
  {
   "cell_type": "code",
   "execution_count": 14,
   "metadata": {},
   "outputs": [
    {
     "name": "stdout",
     "output_type": "stream",
     "text": [
      "Obtuse Angle!\n"
     ]
    }
   ],
   "source": [
    "angle = int(input(\"Enter an angle measure: \"))\n",
    "\n",
    "if angle < 90:\n",
    "    print(\"Acute Angle!\")\n",
    "elif angle == 90:\n",
    "    print(\"Right Angle!\")\n",
    "elif angle == 180:\n",
    "    print(\"Straight Angle!\")\n",
    "elif 90 < angle < 180:\n",
    "    print(\"Obtuse Angle!\")"
   ]
  }
 ],
 "metadata": {
  "kernelspec": {
   "display_name": "Python 3",
   "language": "python",
   "name": "python3"
  },
  "language_info": {
   "codemirror_mode": {
    "name": "ipython",
    "version": 3
   },
   "file_extension": ".py",
   "mimetype": "text/x-python",
   "name": "python",
   "nbconvert_exporter": "python",
   "pygments_lexer": "ipython3",
   "version": "3.12.0"
  }
 },
 "nbformat": 4,
 "nbformat_minor": 2
}
