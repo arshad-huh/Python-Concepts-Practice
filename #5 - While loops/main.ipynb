{
 "cells": [
  {
   "cell_type": "markdown",
   "metadata": {},
   "source": [
    "# While Loops"
   ]
  },
  {
   "cell_type": "markdown",
   "metadata": {},
   "source": [
    "Write a simple while loop that prints the numbers from 1 to 5.\n"
   ]
  },
  {
   "cell_type": "code",
   "execution_count": 1,
   "metadata": {},
   "outputs": [
    {
     "name": "stdout",
     "output_type": "stream",
     "text": [
      "1\n",
      "2\n",
      "3\n",
      "4\n",
      "5\n"
     ]
    }
   ],
   "source": [
    "number = 1\n",
    "while number <= 5:\n",
    "    print(number)\n",
    "    number += 1"
   ]
  },
  {
   "cell_type": "markdown",
   "metadata": {},
   "source": [
    "Extend the previous code to calculate and print the sum of these numbers.\n"
   ]
  },
  {
   "cell_type": "code",
   "execution_count": 2,
   "metadata": {},
   "outputs": [
    {
     "name": "stdout",
     "output_type": "stream",
     "text": [
      "1\n",
      "2\n",
      "3\n",
      "4\n",
      "5\n",
      "SUM = 15\n"
     ]
    }
   ],
   "source": [
    "number = 1\n",
    "sum = 0\n",
    "\n",
    "while number <= 5:\n",
    "    print(number)\n",
    "    sum += number\n",
    "    number += 1\n",
    "\n",
    "print(\"SUM =\", sum)"
   ]
  },
  {
   "cell_type": "markdown",
   "metadata": {},
   "source": [
    "Write a while loop that prints the square of each number from 1 to 5.\n"
   ]
  },
  {
   "cell_type": "code",
   "execution_count": 3,
   "metadata": {},
   "outputs": [
    {
     "name": "stdout",
     "output_type": "stream",
     "text": [
      "1\n",
      "4\n",
      "9\n",
      "16\n",
      "25\n"
     ]
    }
   ],
   "source": [
    "number = 1\n",
    "while number <= 5:\n",
    "    print(number**2)\n",
    "    number += 1"
   ]
  },
  {
   "cell_type": "markdown",
   "metadata": {},
   "source": [
    "Extend the previous code to calculate and print the product of these squared numbers.\n"
   ]
  },
  {
   "cell_type": "code",
   "execution_count": 4,
   "metadata": {},
   "outputs": [
    {
     "name": "stdout",
     "output_type": "stream",
     "text": [
      "1\n",
      "4\n",
      "9\n",
      "16\n",
      "25\n",
      "Sum of Square = 55\n"
     ]
    }
   ],
   "source": [
    "number = 1\n",
    "sq_sum = 0\n",
    "\n",
    "while number <= 5:\n",
    "    sq = number**2\n",
    "    print(sq)\n",
    "    sq_sum += sq\n",
    "    number += 1\n",
    "\n",
    "print(\"Sum of Square =\", sq_sum)"
   ]
  },
  {
   "cell_type": "markdown",
   "metadata": {},
   "source": [
    "Write a while loop that simulates a game where a player can roll a six-sided die.<br>\n",
    "The loop should continue until the player rolls a 6. Print the number of attempts it took."
   ]
  },
  {
   "cell_type": "code",
   "execution_count": 5,
   "metadata": {},
   "outputs": [
    {
     "name": "stdout",
     "output_type": "stream",
     "text": [
      "2\n",
      "3\n",
      "5\n",
      "5\n",
      "6\n",
      "No. of attempts : 5\n"
     ]
    }
   ],
   "source": [
    "import random\n",
    "\n",
    "attempt = 0\n",
    "\n",
    "while True:\n",
    "    roll = random.randint(1,6)\n",
    "    print(roll)\n",
    "    attempt += 1\n",
    "    if roll == 6:\n",
    "        break\n",
    "    else:\n",
    "        continue\n",
    "\n",
    "print(\"No. of attempts :\", attempt)"
   ]
  },
  {
   "cell_type": "code",
   "execution_count": 6,
   "metadata": {},
   "outputs": [
    {
     "name": "stdout",
     "output_type": "stream",
     "text": [
      "Attempt 1: Rolled a 1\n",
      "Attempt 2: Rolled a 3\n",
      "Attempt 3: Rolled a 3\n",
      "Attempt 4: Rolled a 3\n",
      "Attempt 5: Rolled a 6\n",
      "Success! It took 5 attempts to roll a 6.\n"
     ]
    }
   ],
   "source": [
    "# Better Version\n",
    "\n",
    "import random\n",
    "\n",
    "attempts = 0\n",
    "while True:\n",
    "    roll = random.randint(1, 6)\n",
    "    attempts += 1\n",
    "    print(f\"Attempt {attempts}: Rolled a {roll}\")\n",
    "    \n",
    "    if roll == 6:\n",
    "        print(\"Success! It took\", attempts, \"attempts to roll a 6.\")\n",
    "        break"
   ]
  }
 ],
 "metadata": {
  "kernelspec": {
   "display_name": "Python 3",
   "language": "python",
   "name": "python3"
  },
  "language_info": {
   "codemirror_mode": {
    "name": "ipython",
    "version": 3
   },
   "file_extension": ".py",
   "mimetype": "text/x-python",
   "name": "python",
   "nbconvert_exporter": "python",
   "pygments_lexer": "ipython3",
   "version": "3.12.0"
  }
 },
 "nbformat": 4,
 "nbformat_minor": 2
}
