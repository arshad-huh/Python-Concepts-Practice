{
 "cells": [
  {
   "cell_type": "markdown",
   "metadata": {},
   "source": [
    "# Exception Handling"
   ]
  },
  {
   "cell_type": "markdown",
   "metadata": {},
   "source": [
    "1. What is the purpose of using the try, except block in Python?"
   ]
  },
  {
   "cell_type": "markdown",
   "metadata": {},
   "source": [
    "Answer:<br>\n",
    "<p style=\"color:blue\"><i>The try, except block is used for handling exceptions in Python. Code that may raise an exception is placed inside the try block, and the corresponding exception-handling code is written in the except block.</i></p>"
   ]
  },
  {
   "cell_type": "markdown",
   "metadata": {},
   "source": [
    "2. Explain the difference between except Exception as e and except:, and when would you use each form?"
   ]
  },
  {
   "cell_type": "markdown",
   "metadata": {},
   "source": [
    "Answer:<br>\n",
    "<p style=\"color:blue\"><i>except Exception as e catches and assigns the exception instance to the variable e, allowing you to access details about the exception. except: catches all exceptions but doesn't provide access to the exception instance. The former is useful when you need to handle specific exceptions and inspect their properties, while the latter is more general and can be used when you don't need information about the exception.<br>This approach is particularly useful during development and debugging phases, as it provides more insights into the specific issue. However, when deploying your code in a production environment, it's a good practice to log these error messages in a secure way rather than exposing them directly to end-users.</i></p>"
   ]
  },
  {
   "cell_type": "markdown",
   "metadata": {},
   "source": [
    "3. Write a Python function that takes two parameters (a and b) and returns the result of dividing a by b. Handle the ZeroDivisionError by printing a message instead of crashing the program."
   ]
  },
  {
   "cell_type": "code",
   "execution_count": 1,
   "metadata": {},
   "outputs": [
    {
     "name": "stdout",
     "output_type": "stream",
     "text": [
      "5.0\n",
      "Cannot divide by zero.\n"
     ]
    }
   ],
   "source": [
    "def divide_numbers(a, b):\n",
    "    try:\n",
    "        result = a / b\n",
    "        return result\n",
    "    except ZeroDivisionError:\n",
    "        print(\"Cannot divide by zero.\")\n",
    "\n",
    "# Example usage:\n",
    "result = divide_numbers(10, 2)\n",
    "print(result)\n",
    "\n",
    "divide_numbers(5, 0)"
   ]
  },
  {
   "cell_type": "markdown",
   "metadata": {},
   "source": [
    "4. Create a Python function that reads an integer from the user. Handle the ValueError exception if the input is not a valid integer, and keep prompting the user until a valid integer is provided."
   ]
  },
  {
   "cell_type": "code",
   "execution_count": 2,
   "metadata": {},
   "outputs": [
    {
     "data": {
      "text/plain": [
       "345"
      ]
     },
     "execution_count": 2,
     "metadata": {},
     "output_type": "execute_result"
    }
   ],
   "source": [
    "def get_valid_integer():\n",
    "    while True:\n",
    "        try:\n",
    "            user_input = int(input(\"Enter an integer: \"))\n",
    "            return user_input\n",
    "        except ValueError:\n",
    "            print(\"Invalid input. Please enter a valid integer.\")\n",
    "\n",
    "get_valid_integer()"
   ]
  },
  {
   "cell_type": "markdown",
   "metadata": {},
   "source": [
    "5. Write a Python function that reads data from a file named \"data.txt\" and prints its content. Handle the FileNotFoundError by displaying a message if the file is not found."
   ]
  },
  {
   "cell_type": "code",
   "execution_count": 3,
   "metadata": {},
   "outputs": [
    {
     "name": "stdout",
     "output_type": "stream",
     "text": [
      "The file not found.\n"
     ]
    }
   ],
   "source": [
    "def read_file():\n",
    "    try:\n",
    "        with open(\"data.txt\") as f:\n",
    "            content = f.read()\n",
    "            print(content)\n",
    "    except FileNotFoundError:\n",
    "        print(\"The file not found.\")\n",
    "    \n",
    "read_file()"
   ]
  },
  {
   "cell_type": "markdown",
   "metadata": {},
   "source": [
    "6. Create a Python function that performs a series of file operations. Open a file named \"input.txt,\" read its content, convert it to an integer, and write the squared value to a new file named \"output.txt.\" Handle any exceptions that may occur."
   ]
  },
  {
   "cell_type": "code",
   "execution_count": 4,
   "metadata": {},
   "outputs": [
    {
     "name": "stdout",
     "output_type": "stream",
     "text": [
      "File not found.\n"
     ]
    }
   ],
   "source": [
    "def process_file():\n",
    "    try:\n",
    "        with open(\"input.txt\", \"r\") as input_file:\n",
    "            data = input_file.read()\n",
    "            value = int(data)\n",
    "\n",
    "        squared_value = value ** 2\n",
    "\n",
    "        with open(\"output.txt\", \"w\") as output_file:\n",
    "            output_file.write(str(squared_value))\n",
    "\n",
    "    except FileNotFoundError:\n",
    "        print(\"File not found.\")\n",
    "    except ValueError:\n",
    "        print(\"Error: Input data is not a valid integer.\")\n",
    "    except Exception as e:\n",
    "        print(f\"An unexpected error occurred: {e}\")\n",
    "\n",
    "process_file()\n"
   ]
  },
  {
   "cell_type": "markdown",
   "metadata": {},
   "source": [
    "7. Implement a Python class representing a stack with push and pop operations. Add exception handling to the pop operation to handle the case when the stack is empty and provide a custom exception called EmptyStackError."
   ]
  },
  {
   "cell_type": "code",
   "execution_count": 5,
   "metadata": {},
   "outputs": [
    {
     "name": "stdout",
     "output_type": "stream",
     "text": [
      "2\n",
      "1\n",
      "Error: Cannot pop from an empty stack.\n",
      "None\n"
     ]
    }
   ],
   "source": [
    "class Stack:\n",
    "    def __init__(self):\n",
    "        self.items = []\n",
    "\n",
    "    def push(self, item):\n",
    "        self.items.append(item)\n",
    "\n",
    "    def pop(self):\n",
    "        try:\n",
    "            if not self.items:\n",
    "                raise EmptyStackError(\"Cannot pop from an empty stack.\")\n",
    "            return self.items.pop()\n",
    "        except EmptyStackError as e:\n",
    "            print(f\"Error: {e}\")\n",
    "\n",
    "# Custom exception\n",
    "class EmptyStackError(Exception):\n",
    "    pass\n",
    "\n",
    "# Example usage:\n",
    "stack = Stack()\n",
    "stack.push(1)\n",
    "stack.push(2)\n",
    "\n",
    "print(stack.pop())  # Output: 2\n",
    "print(stack.pop())  # Output: 1\n",
    "print(stack.pop())  # Output: Error: Cannot pop from an empty stack."
   ]
  }
 ],
 "metadata": {
  "kernelspec": {
   "display_name": "Python 3",
   "language": "python",
   "name": "python3"
  },
  "language_info": {
   "codemirror_mode": {
    "name": "ipython",
    "version": 3
   },
   "file_extension": ".py",
   "mimetype": "text/x-python",
   "name": "python",
   "nbconvert_exporter": "python",
   "pygments_lexer": "ipython3",
   "version": "3.12.0"
  }
 },
 "nbformat": 4,
 "nbformat_minor": 2
}
