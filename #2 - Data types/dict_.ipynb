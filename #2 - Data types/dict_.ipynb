{
 "cells": [
  {
   "cell_type": "markdown",
   "metadata": {},
   "source": [
    "# Dictionary"
   ]
  },
  {
   "cell_type": "markdown",
   "metadata": {},
   "source": [
    "Create a dictionary with the keys 'name' and 'age' and their respective values 'John' and 25.\n"
   ]
  },
  {
   "cell_type": "code",
   "execution_count": 1,
   "metadata": {},
   "outputs": [
    {
     "name": "stdout",
     "output_type": "stream",
     "text": [
      "{'name': 'John', 'age': 25}\n"
     ]
    }
   ],
   "source": [
    "dict_1 = {\n",
    "    \"name\" : \"John\",\n",
    "    \"age\" : 25\n",
    "}\n",
    "\n",
    "print(dict_1)"
   ]
  },
  {
   "cell_type": "markdown",
   "metadata": {},
   "source": [
    "Create an empty dictionary.\n"
   ]
  },
  {
   "cell_type": "code",
   "execution_count": 2,
   "metadata": {},
   "outputs": [
    {
     "name": "stdout",
     "output_type": "stream",
     "text": [
      "<class 'dict'>\n"
     ]
    }
   ],
   "source": [
    "dict_1 = {}\n",
    "# OR\n",
    "dict_2 = dict()\n",
    "\n",
    "print(type(dict_1))"
   ]
  },
  {
   "cell_type": "markdown",
   "metadata": {},
   "source": [
    "Access the value associated with the key 'age' in the dictionary {'name': 'John', 'age': 25}.\n"
   ]
  },
  {
   "cell_type": "code",
   "execution_count": 3,
   "metadata": {},
   "outputs": [
    {
     "name": "stdout",
     "output_type": "stream",
     "text": [
      "25\n"
     ]
    }
   ],
   "source": [
    "dict_1 = {\n",
    "    \"name\" : \"John\",\n",
    "    \"age\" : 25\n",
    "}\n",
    "\n",
    "print(dict_1[\"age\"])"
   ]
  },
  {
   "cell_type": "markdown",
   "metadata": {},
   "source": [
    "Check if the key 'city' exists in the dictionary {'name': 'John', 'age': 25}.\n"
   ]
  },
  {
   "cell_type": "code",
   "execution_count": 4,
   "metadata": {},
   "outputs": [
    {
     "name": "stdout",
     "output_type": "stream",
     "text": [
      "False\n"
     ]
    }
   ],
   "source": [
    "dict_1 = {\n",
    "    \"name\" : \"John\",\n",
    "    \"age\" : 25\n",
    "}\n",
    "\n",
    "key_present = \"city\" in dict_1\n",
    "print(key_present)"
   ]
  },
  {
   "cell_type": "markdown",
   "metadata": {},
   "source": [
    "Remove the key 'age' from the dictionary {'name': 'John', 'age': 25}.\n"
   ]
  },
  {
   "cell_type": "code",
   "execution_count": 5,
   "metadata": {},
   "outputs": [
    {
     "name": "stdout",
     "output_type": "stream",
     "text": [
      "{'name': 'John'}\n"
     ]
    }
   ],
   "source": [
    "dict_1 = {\n",
    "    \"name\" : \"John\",\n",
    "    \"age\" : 25\n",
    "}\n",
    "\n",
    "dict_1.pop(\"age\") # OR del dict_1[\"age\"] but .pop is better\n",
    "\n",
    "print(dict_1)"
   ]
  },
  {
   "cell_type": "markdown",
   "metadata": {},
   "source": [
    "Print all keys in the dictionary {'a': 1, 'b': 2, 'c': 3}.\n"
   ]
  },
  {
   "cell_type": "code",
   "execution_count": 6,
   "metadata": {},
   "outputs": [
    {
     "name": "stdout",
     "output_type": "stream",
     "text": [
      "dict_keys(['a', 'b', 'c'])\n"
     ]
    }
   ],
   "source": [
    "my_dict = {\n",
    "    'a': 1,\n",
    "    'b': 2,\n",
    "    'c': 3\n",
    "    }\n",
    "\n",
    "print(my_dict.keys())"
   ]
  },
  {
   "cell_type": "markdown",
   "metadata": {},
   "source": [
    "Update the value of the key 'age' to 26 in the dictionary {'name': 'John', 'age': 25}.\n"
   ]
  },
  {
   "cell_type": "code",
   "execution_count": 7,
   "metadata": {},
   "outputs": [
    {
     "name": "stdout",
     "output_type": "stream",
     "text": [
      "{'name': 'John', 'age': 26}\n"
     ]
    }
   ],
   "source": [
    "dict_1 = {\n",
    "    \"name\" : \"John\",\n",
    "    \"age\" : 25\n",
    "}\n",
    "\n",
    "dict_1[\"age\"] = 26\n",
    "print(dict_1)"
   ]
  },
  {
   "cell_type": "markdown",
   "metadata": {},
   "source": [
    "Write a program to count the frequency of each character in the string 'programming'.\n"
   ]
  },
  {
   "cell_type": "code",
   "execution_count": 8,
   "metadata": {},
   "outputs": [
    {
     "name": "stdout",
     "output_type": "stream",
     "text": [
      "{'i': 1, 'n': 1, 'g': 2, 'r': 2, 'a': 1, 'p': 1, 'o': 1, 'm': 2}\n"
     ]
    }
   ],
   "source": [
    "word = \"programming\"\n",
    "\n",
    "dictx = {x: word.count(x) for x in set(word) }\n",
    "\n",
    "print(dictx)"
   ]
  },
  {
   "cell_type": "markdown",
   "metadata": {},
   "source": [
    "Merge two dictionaries {'a': 1, 'b': 2} and {'b': 3, 'c': 4}.\n"
   ]
  },
  {
   "cell_type": "code",
   "execution_count": 9,
   "metadata": {},
   "outputs": [
    {
     "name": "stdout",
     "output_type": "stream",
     "text": [
      "{'a': 1, 'b': 3, 'c': 4}\n"
     ]
    }
   ],
   "source": [
    "dictx = {\n",
    "    'a': 1,\n",
    "    'b': 2\n",
    "    }\n",
    "\n",
    "dicty = {\n",
    "    'b': 3,\n",
    "    'c': 4\n",
    "    }\n",
    "\n",
    "merged_dict = {**dictx, **dicty}  # \"**\" This is for unpacking dictionaries.\n",
    "\n",
    "print(merged_dict)"
   ]
  },
  {
   "cell_type": "markdown",
   "metadata": {},
   "source": [
    "Write a program to find the key with the maximum value in the dictionary {'a': 10, 'b': 5, 'c': 15}.\n"
   ]
  },
  {
   "cell_type": "code",
   "execution_count": 10,
   "metadata": {},
   "outputs": [
    {
     "name": "stdout",
     "output_type": "stream",
     "text": [
      "c\n"
     ]
    }
   ],
   "source": [
    "my_dict = {\n",
    "    'a': 10,\n",
    "    'b': 5,\n",
    "    'c': 15\n",
    "    }\n",
    "\n",
    "max_key = max(my_dict, key=my_dict.get)\n",
    "\n",
    "print(max_key)"
   ]
  }
 ],
 "metadata": {
  "kernelspec": {
   "display_name": "Python 3",
   "language": "python",
   "name": "python3"
  },
  "language_info": {
   "codemirror_mode": {
    "name": "ipython",
    "version": 3
   },
   "file_extension": ".py",
   "mimetype": "text/x-python",
   "name": "python",
   "nbconvert_exporter": "python",
   "pygments_lexer": "ipython3",
   "version": "3.12.0"
  }
 },
 "nbformat": 4,
 "nbformat_minor": 2
}
