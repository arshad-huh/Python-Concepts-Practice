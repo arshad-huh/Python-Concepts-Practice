{
 "cells": [
  {
   "cell_type": "markdown",
   "metadata": {},
   "source": [
    "# Variables and Operators"
   ]
  },
  {
   "cell_type": "markdown",
   "metadata": {},
   "source": [
    "What is the result of the following expression?"
   ]
  },
  {
   "cell_type": "code",
   "execution_count": 1,
   "metadata": {},
   "outputs": [
    {
     "name": "stdout",
     "output_type": "stream",
     "text": [
      "8\n"
     ]
    }
   ],
   "source": [
    "result = 5 + 3\n",
    "print(result)\n",
    "# Output - 8"
   ]
  },
  {
   "cell_type": "markdown",
   "metadata": {},
   "source": [
    "Calculate the remainder when 15 is divided by 4."
   ]
  },
  {
   "cell_type": "code",
   "execution_count": 2,
   "metadata": {},
   "outputs": [
    {
     "name": "stdout",
     "output_type": "stream",
     "text": [
      "3\n"
     ]
    }
   ],
   "source": [
    "remainder = 15 % 4\n",
    "print(remainder)"
   ]
  },
  {
   "cell_type": "markdown",
   "metadata": {},
   "source": [
    "Create a program that takes two numbers as input and prints their product."
   ]
  },
  {
   "cell_type": "code",
   "execution_count": 3,
   "metadata": {},
   "outputs": [
    {
     "name": "stdout",
     "output_type": "stream",
     "text": [
      "550.0\n"
     ]
    }
   ],
   "source": [
    "num_1 = float(input(\"Enter first number: \"))\n",
    "num_2 = float(input(\"Enter Second number: \"))\n",
    "\n",
    "product = num_1 * num_2\n",
    "print(product)"
   ]
  },
  {
   "cell_type": "markdown",
   "metadata": {},
   "source": [
    "Write a program that swaps the values of two variables without using a temporary variable."
   ]
  },
  {
   "cell_type": "code",
   "execution_count": 4,
   "metadata": {},
   "outputs": [
    {
     "name": "stdout",
     "output_type": "stream",
     "text": [
      "After swapping a: 21 and b: 23\n"
     ]
    }
   ],
   "source": [
    "a = 23\n",
    "b = 21\n",
    "\n",
    "a, b = b, a\n",
    "\n",
    "print(f\"After swapping a: {a} and b: {b}\")"
   ]
  },
  {
   "cell_type": "markdown",
   "metadata": {},
   "source": [
    "A leap year is either divisible by 4 but not by 100, or it is divisible by 400.\n"
   ]
  },
  {
   "cell_type": "code",
   "execution_count": 5,
   "metadata": {},
   "outputs": [
    {
     "name": "stdout",
     "output_type": "stream",
     "text": [
      "2024 is a leap year.\n"
     ]
    }
   ],
   "source": [
    "year = int(input(\"Enter a year: \"))\n",
    "\n",
    "if (year % 4 == 0 and year % 100 != 0) or (year % 400 == 0):\n",
    "    print(year, \"is a leap year.\")\n",
    "else:\n",
    "    print(year, \"is not a leap year.\")\n"
   ]
  },
  {
   "cell_type": "markdown",
   "metadata": {},
   "source": [
    "Write a program to find the maximum of three numbers without using the built-in max() function."
   ]
  },
  {
   "cell_type": "code",
   "execution_count": 6,
   "metadata": {},
   "outputs": [
    {
     "name": "stdout",
     "output_type": "stream",
     "text": [
      "The maximum number is: 234.0\n"
     ]
    }
   ],
   "source": [
    "num1 = float(input(\"Enter the first number: \"))\n",
    "num2 = float(input(\"Enter the second number: \"))\n",
    "num3 = float(input(\"Enter the third number: \"))\n",
    "\n",
    "maximum = num1\n",
    "\n",
    "if num2 > maximum:\n",
    "    maximum = num2\n",
    "\n",
    "if num3 > maximum:\n",
    "    maximum = num3\n",
    "\n",
    "print(\"The maximum number is:\", maximum)"
   ]
  },
  {
   "cell_type": "markdown",
   "metadata": {},
   "source": [
    "Write a program to calculate the factorial of a given number.\n",
    "The factorial of a non-negative integer n is the product of all positive integers less than or equal to n."
   ]
  },
  {
   "cell_type": "code",
   "execution_count": 7,
   "metadata": {},
   "outputs": [
    {
     "name": "stdout",
     "output_type": "stream",
     "text": [
      "119622220865480194561963161495657715064383733760000000000\n"
     ]
    }
   ],
   "source": [
    "n = int(input(\"Enter a non-negative integer: \"))\n",
    "\n",
    "factorial = 1\n",
    "\n",
    "if n == 0:\n",
    "    print(\"Factorial of 0 is 1.\")\n",
    "\n",
    "elif n < 0:\n",
    "    print(\"factorial is not defined for negative integer\")\n",
    "\n",
    "else:\n",
    "    for i in range(1, n+1):\n",
    "        factorial *= i\n",
    "\n",
    "print(factorial)"
   ]
  },
  {
   "cell_type": "markdown",
   "metadata": {},
   "source": [
    "Write a program to implement a simple calculator that can perform addition, subtraction, multiplication, and division. The user should be able to input two numbers and choose an operation.\n",
    "\n"
   ]
  },
  {
   "cell_type": "code",
   "execution_count": 8,
   "metadata": {},
   "outputs": [
    {
     "name": "stdout",
     "output_type": "stream",
     "text": [
      "65.0 / 34.0 =  1.911764705882353\n"
     ]
    }
   ],
   "source": [
    "num_1 = float(input(\"Enter the first number: \"))\n",
    "num_2 = float(input(\"Enter the second number: \"))\n",
    "\n",
    "operation = input(\"Choose one Operation (+, -, *, /): \")\n",
    "\n",
    "if operation == \"+\":\n",
    "    addition = num_1 + num_2\n",
    "    print(num_1, operation, num_2, \"=\" , addition)\n",
    "\n",
    "elif operation == \"-\":\n",
    "    sub = num_1 - num_2\n",
    "    print(num_1, operation, num_2, \"= \", sub)\n",
    "\n",
    "elif operation == \"*\":\n",
    "    mul = num_1 * num_2\n",
    "    print(num_1, operation, num_2, \"= \", mul)\n",
    "    \n",
    "elif operation == \"/\":\n",
    "    div = num_1 / num_2\n",
    "    print(num_1, operation, num_2, \"= \", div) "
   ]
  }
 ],
 "metadata": {
  "kernelspec": {
   "display_name": "Python 3",
   "language": "python",
   "name": "python3"
  },
  "language_info": {
   "codemirror_mode": {
    "name": "ipython",
    "version": 3
   },
   "file_extension": ".py",
   "mimetype": "text/x-python",
   "name": "python",
   "nbconvert_exporter": "python",
   "pygments_lexer": "ipython3",
   "version": "3.12.0"
  }
 },
 "nbformat": 4,
 "nbformat_minor": 2
}
